{
  "nbformat": 4,
  "nbformat_minor": 0,
  "metadata": {
    "colab": {
      "name": "Stat_evaluation.ipynb",
      "provenance": [],
      "collapsed_sections": [],
      "authorship_tag": "ABX9TyP49rYAk5ls3oYg3I1quQjn",
      "include_colab_link": true
    },
    "kernelspec": {
      "name": "python3",
      "display_name": "Python 3"
    },
    "language_info": {
      "name": "python"
    }
  },
  "cells": [
    {
      "cell_type": "markdown",
      "metadata": {
        "id": "view-in-github",
        "colab_type": "text"
      },
      "source": [
        "<a href=\"https://colab.research.google.com/github/frapasti/Embedded-Person-detection/blob/main/Stat_evaluation.ipynb\" target=\"_parent\"><img src=\"https://colab.research.google.com/assets/colab-badge.svg\" alt=\"Open In Colab\"/></a>"
      ]
    },
    {
      "cell_type": "code",
      "execution_count": null,
      "metadata": {
        "id": "AS9E7CjsYIoa"
      },
      "outputs": [],
      "source": [
        "!pip install fiftyone --no-binary fiftyone,voxel51-eta\n",
        "import fiftyone as fo\n",
        "import fiftyone.zoo as foz\n",
        "import numpy as np\n",
        "from numpy import expand_dims\n",
        "from keras.models import load_model\n",
        "from keras.preprocessing.image import load_img\n",
        "from keras.preprocessing.image import img_to_array\n",
        "from matplotlib import pyplot\n",
        "from matplotlib.patches import Rectangle\n",
        "import json\n",
        "import numpy as np\n",
        "from numpy import expand_dims\n",
        "from keras.models import load_model\n",
        "from keras.preprocessing.image import load_img\n",
        "from keras.preprocessing.image import img_to_array\n",
        "from matplotlib import pyplot\n",
        "from matplotlib.patches import Rectangle\n",
        "import cv2\n",
        "import imutils\n",
        "from google.colab.patches import cv2_imshow"
      ]
    },
    {
      "cell_type": "markdown",
      "source": [
        "Import a dataset of images containing persons from the coco test split"
      ],
      "metadata": {
        "id": "3-AYFOFWaUEd"
      }
    },
    {
      "cell_type": "code",
      "source": [
        "import fiftyone.zoo as foz\n",
        "\n",
        "dataset = foz.load_zoo_dataset(\n",
        "    \"coco-2017\",\n",
        "    split=\"validation\",\n",
        "    label_types=[\"detections\"],\n",
        "    classes=[\"person\"],\n",
        "    only_matching = True,\n",
        "    max_samples=500,\n",
        ")"
      ],
      "metadata": {
        "colab": {
          "base_uri": "https://localhost:8080/"
        },
        "id": "omtbyj3faTDu",
        "outputId": "59264f8d-3964-4dee-961f-9ee1f42a7de6"
      },
      "execution_count": 4,
      "outputs": [
        {
          "output_type": "stream",
          "name": "stdout",
          "text": [
            "Downloading split 'validation' to '/root/fiftyone/coco-2017/validation' if necessary\n",
            "Downloading annotations to '/root/fiftyone/coco-2017/tmp-download/annotations_trainval2017.zip'\n",
            " 100% |██████|    1.9Gb/1.9Gb [2.5s elapsed, 0s remaining, 743.3Mb/s]       \n",
            "Extracting annotations to '/root/fiftyone/coco-2017/raw/instances_val2017.json'\n",
            "Downloading 500 images\n",
            " 100% |██████████████████| 500/500 [46.0s elapsed, 0s remaining, 11.3 images/s]      \n",
            "Writing annotations for 500 downloaded samples to '/root/fiftyone/coco-2017/validation/labels.json'\n",
            "Dataset info written to '/root/fiftyone/coco-2017/info.json'\n",
            "Loading 'coco-2017' split 'validation'\n",
            " 100% |█████████████████| 500/500 [2.6s elapsed, 0s remaining, 203.9 samples/s]      \n",
            "Dataset 'coco-2017-validation-500' created\n"
          ]
        }
      ]
    },
    {
      "cell_type": "markdown",
      "source": [
        "# **DATA ORGANIZATION**\n",
        "\n",
        "  Now extract the paths of the images that have been downloaded and save them in a list called \"**every_path**\"\n",
        "\n",
        "  For each image count the number of persons that are present and return the number in the list \"**counters**\"\n",
        "\n",
        "  For each image append the ground truth boxes in the list \"**bboxes**\"\n"
      ],
      "metadata": {
        "id": "6mhzoJMrgLIi"
      }
    },
    {
      "cell_type": "code",
      "source": [
        "f = open('/root/fiftyone/coco-2017/validation/labels.json')\n",
        "data = json.load(f)\n",
        "annotations = data['annotations']\n",
        "every_path = []\n",
        "cols = 10\n",
        "rows = 500\n",
        "bbox_size = 4\n",
        "counters = [0] * rows\n",
        "bboxes = [[] for i in range(rows)] \n",
        "items = 0\n",
        "#creation of the list of paths of images in the dataset\n",
        "for entry in data['annotations']:\n",
        "    class_id = entry['category_id']\n",
        "    if (class_id == 1):\n",
        "        img_id = entry['image_id']\n",
        "        path = float(img_id)/pow(10,11)\n",
        "        dec_path = format(path, '.11f')\n",
        "        final_path = ''\n",
        "        final_path = '/root/fiftyone/coco-2017/validation/data/'+ dec_path.replace('.', '') + '.jpg'\n",
        "        if(every_path.count(final_path) == 0):\n",
        "          every_path.append(final_path)\n",
        "          bboxes[items].append(entry['bbox'])\n",
        "          items = items + 1\n",
        "        else:\n",
        "          index = every_path.index(final_path)\n",
        "          if(counters[index] + 1 < 10):\n",
        "            bboxes[index].append(entry['bbox'])\n",
        "            counters[index] = counters[index] + 1\n",
        "every_img = []\n",
        "for i in range(0, rows):\n",
        "    image = load_img(every_path[i], target_size=(416, 416))\n",
        "    image = img_to_array(image)\n",
        "    # scale pixel values to [0, 1]\n",
        "    image = image.astype('float32')\n",
        "    image /= 255.0\n",
        "    image = expand_dims(image, 0)\n",
        "    every_img.append(image)"
      ],
      "metadata": {
        "id": "2TDrn46sa25r"
      },
      "execution_count": 50,
      "outputs": []
    },
    {
      "cell_type": "markdown",
      "source": [
        "Function to calculate the Intersection Over Union of a ground box and a predicted box"
      ],
      "metadata": {
        "id": "zjW1XSM1wL0G"
      }
    },
    {
      "cell_type": "code",
      "source": [
        "def calc_iou( gt_bbox, pred_bbox):\n",
        "    '''\n",
        "    This function takes the predicted bounding box and ground truth bounding box and \n",
        "    return the IoU ratio\n",
        "    '''\n",
        "    x_topleft_gt, y_topleft_gt, x_bottomright_gt, y_bottomright_gt= gt_bbox[0] , gt_bbox[1], gt_bbox[0] + gt_bbox[2] , gt_bbox[1] + gt_bbox[3]\n",
        "    x_topleft_p, y_topleft_p, x_bottomright_p, y_bottomright_p= pred_bbox[0] , pred_bbox[1], pred_bbox[0] + pred_bbox[2] , pred_bbox[1] + pred_bbox[3]\n",
        "    \n",
        "    if (x_topleft_gt > x_bottomright_gt) or (y_topleft_gt> y_bottomright_gt):\n",
        "        raise AssertionError(\"Ground Truth Bounding Box is not correct\")\n",
        "    if (x_topleft_p > x_bottomright_p) or (y_topleft_p> y_bottomright_p):\n",
        "        raise AssertionError(\"Predicted Bounding Box is not correct\",x_topleft_p, x_bottomright_p,y_topleft_p,y_bottomright_gt)\n",
        "        \n",
        "         \n",
        "    #if the GT bbox and predcited BBox do not overlap then iou=0\n",
        "    if(x_bottomright_gt< x_topleft_p):\n",
        "        # If bottom right of x-coordinate  GT  bbox is less than or above the top left of x coordinate of  the predicted BBox\n",
        "        \n",
        "        return 0.0\n",
        "    if(y_bottomright_gt< y_topleft_p):  # If bottom right of y-coordinate  GT  bbox is less than or above the top left of y coordinate of  the predicted BBox\n",
        "        \n",
        "        return 0.0\n",
        "    if(x_topleft_gt> x_bottomright_p): # If bottom right of x-coordinate  GT  bbox is greater than or below the bottom right  of x coordinate of  the predcited BBox\n",
        "        \n",
        "        return 0.0\n",
        "    if(y_topleft_gt> y_bottomright_p): # If bottom right of y-coordinate  GT  bbox is greater than or below the bottom right  of y coordinate of  the predcited BBox\n",
        "        \n",
        "        return 0.0\n",
        "    \n",
        "    \n",
        "    GT_bbox_area = (x_bottomright_gt -  x_topleft_gt + 1) * (  y_bottomright_gt -y_topleft_gt + 1)\n",
        "    Pred_bbox_area =(x_bottomright_p - x_topleft_p + 1 ) * ( y_bottomright_p -y_topleft_p + 1)\n",
        "    \n",
        "    x_top_left =np.max([x_topleft_gt, x_topleft_p])\n",
        "    y_top_left = np.max([y_topleft_gt, y_topleft_p])\n",
        "    x_bottom_right = np.min([x_bottomright_gt, x_bottomright_p])\n",
        "    y_bottom_right = np.min([y_bottomright_gt, y_bottomright_p])\n",
        "    \n",
        "    intersection_area = (x_bottom_right- x_top_left + 1) * (y_bottom_right-y_top_left  + 1)\n",
        "    \n",
        "    union_area = (GT_bbox_area + Pred_bbox_area - intersection_area)\n",
        "   \n",
        "    return intersection_area/union_area"
      ],
      "metadata": {
        "id": "g_x2qGBzh8OX"
      },
      "execution_count": 23,
      "outputs": []
    },
    {
      "cell_type": "markdown",
      "source": [
        "# **HOG EVALUATION**\n",
        "\n",
        "Exploiting the hog detector provided by OpenCV, this detector returns a list of proposed boxes for an image"
      ],
      "metadata": {
        "id": "XxnR_nIlwVAG"
      }
    },
    {
      "cell_type": "code",
      "source": [
        "def hog_detector(im_path): \n",
        "  # Initializing the HOG person\n",
        "  # detector\n",
        "  hog = cv2.HOGDescriptor()\n",
        "  hog.setSVMDetector(cv2.HOGDescriptor_getDefaultPeopleDetector())\n",
        "    \n",
        "  # Reading the Image\n",
        "  image = cv2.imread(im_path)\n",
        "    \n",
        "  # Resizing the Image\n",
        "  image = imutils.resize(image,\n",
        "                        width=min(400, image.shape[1]))\n",
        "    \n",
        "  # Detecting all the regions in the \n",
        "  # Image that has a pedestrians inside it\n",
        "  (regions, _) = hog.detectMultiScale(image, \n",
        "                                      winStride=(4, 4),\n",
        "                                      padding=(4, 4),\n",
        "                                      scale=1.05)\n",
        "    \n",
        "  # Drawing the regions in the Image\n",
        "  for (x, y, w, h) in regions:\n",
        "      cv2.rectangle(image, (x, y), \n",
        "                    (x + w, y + h), \n",
        "                    (0, 0, 255), 2)\n",
        "    \n",
        "  # Showing the output Image\n",
        "  cv2_imshow(image)\n",
        "\n",
        "  return regions"
      ],
      "metadata": {
        "id": "cRmiAge7etNN"
      },
      "execution_count": 33,
      "outputs": []
    },
    {
      "cell_type": "markdown",
      "source": [
        "Now for each image in our dataset we calculate the regions proposed by Hog and save them in the list **prop_regions**"
      ],
      "metadata": {
        "id": "Kk13AFJpwjZm"
      }
    },
    {
      "cell_type": "code",
      "source": [
        "prop_regions = []\n",
        "for i in range(0,500):\n",
        "  prop_regions.append(hog_detector(every_path[i]))"
      ],
      "metadata": {
        "id": "CxqQ7kIQevsG"
      },
      "execution_count": 19,
      "outputs": []
    },
    {
      "cell_type": "markdown",
      "source": [
        "Finally calcualte the detection rate based on an IOU_threshold, if the IoU threshold is small then more boxes will be considered as correct predictions.\n",
        "\n",
        "The number of correct predictions will then be compared with the number of supposed predictions, so the number of persons that are supposed to be in the image\n",
        "\n",
        "The script calculates the detection rate as person detected / total person based on different iou_thresholds"
      ],
      "metadata": {
        "id": "SWJ9g9uDw3S3"
      }
    },
    {
      "cell_type": "code",
      "source": [
        "iou_thr = 0\n",
        "iou_thresholds = []\n",
        "detection_rate_iou = []\n",
        "for h in range(0,1000):\n",
        "  iou_thr += 0.001  \n",
        "  iou_thresholds.append(iou_thr)\n",
        "  detection_rate = [0]*500\n",
        "  for i in range(0,500):\n",
        "    for j in prop_regions[i]:\n",
        "      for h in bboxes[i]:\n",
        "        if (calc_iou(h,j) > iou_thr):\n",
        "          if(detection_rate[i] < len(bboxes[i])):\n",
        "            detection_rate[i] += 1;\n",
        "    detection_rate[i] = detection_rate[i]/len(bboxes[i])\n",
        "  temp = sum(detection_rate)/500\n",
        "  detection_rate_iou.append(temp)"
      ],
      "metadata": {
        "id": "TZAES7XKjFpP"
      },
      "execution_count": 68,
      "outputs": []
    },
    {
      "cell_type": "code",
      "source": [
        "pyplot.plot(iou_thresholds, detection_rate_iou)\n",
        "pyplot.show()"
      ],
      "metadata": {
        "colab": {
          "base_uri": "https://localhost:8080/",
          "height": 265
        },
        "id": "ka4QdAF4npSQ",
        "outputId": "f1c92b07-8559-4ef1-d42f-58958e119053"
      },
      "execution_count": 69,
      "outputs": [
        {
          "output_type": "display_data",
          "data": {
            "text/plain": [
              "<Figure size 432x288 with 1 Axes>"
            ],
            "image/png": "[encoded data removed]"
          },
          "metadata": {
            "needs_background": "light"
          }
        }
      ]
    },
    {
      "cell_type": "markdown",
      "source": [
        "# **VIOLA AND JONES**\n",
        "\n",
        "Now do the same type of evaluation for the Viola and Jones method provided by OpenCV"
      ],
      "metadata": {
        "id": "iOwxGCELyZ8W"
      }
    },
    {
      "cell_type": "code",
      "source": [
        "def viola_detector(im_path): \n",
        "    \n",
        "  #Reading the Image\n",
        "  image = cv2.imread(im_path)\n",
        "\n",
        "  #convert in gray_scale since the cascade classifier works on gray_scale images\n",
        "  grayscale_image = cv2.cvtColor(image, cv2.COLOR_BGR2GRAY)\n",
        "\n",
        "  #load the cascade classifier, detect the bodies in the image and draw them for the user to see\n",
        "  body_cascade = cv2.CascadeClassifier('/haarcascade_fullbody.xml')\n",
        "  detected_bodies = body_cascade.detectMultiScale(grayscale_image)\n",
        "  for (column, row, width, height) in detected_bodies:\n",
        "      cv2.rectangle(image,(column, row),(column + width, row + height),(0, 255, 0),4)    \n",
        "  #Showing the output Image\n",
        "  #cv2_imshow(image)\n",
        "\n",
        "  return detected_bodies"
      ],
      "metadata": {
        "id": "JfWa9HDUyY92"
      },
      "execution_count": 78,
      "outputs": []
    },
    {
      "cell_type": "code",
      "source": [
        "prop_regions_viola = []\n",
        "for i in range(0,500):\n",
        "  prop_regions_viola.append(viola_detector(every_path[i]))"
      ],
      "metadata": {
        "id": "IOKV8D050Gws"
      },
      "execution_count": 82,
      "outputs": []
    },
    {
      "cell_type": "code",
      "source": [
        "iou_thr = 0\n",
        "iou_thresholds = []\n",
        "detection_rate_iou_viola = []\n",
        "for h in range(0,1000):\n",
        "  iou_thr += 0.001  \n",
        "  iou_thresholds.append(iou_thr)\n",
        "  detection_rate = [0]*500\n",
        "  for i in range(0,500):\n",
        "    for j in prop_regions_viola[i]:\n",
        "      for h in bboxes[i]:\n",
        "        if (calc_iou(h,j) > iou_thr):\n",
        "          if(detection_rate[i] < len(bboxes[i])):\n",
        "            detection_rate[i] += 1;\n",
        "    detection_rate[i] = detection_rate[i]/len(bboxes[i])\n",
        "  temp = sum(detection_rate)/500\n",
        "  detection_rate_iou_viola.append(temp)"
      ],
      "metadata": {
        "id": "u3z0lydL2SXu"
      },
      "execution_count": 85,
      "outputs": []
    },
    {
      "cell_type": "code",
      "source": [
        "pyplot.plot(iou_thresholds, detection_rate_iou_viola)\n",
        "pyplot.show()"
      ],
      "metadata": {
        "colab": {
          "base_uri": "https://localhost:8080/",
          "height": 265
        },
        "id": "3ReMF1bJ2Zyc",
        "outputId": "aeaa866a-8a20-420b-f8e4-bd6619d481bf"
      },
      "execution_count": 86,
      "outputs": [
        {
          "output_type": "display_data",
          "data": {
            "text/plain": [
              "<Figure size 432x288 with 1 Axes>"
            ],
            "image/png": "[encoded data removed]"
          },
          "metadata": {
            "needs_background": "light"
          }
        }
      ]
    },
    {
      "cell_type": "markdown",
      "source": [
        "# **Improving Viola**\n",
        "\n",
        "The same type of test have been done on the Viola and Jones detector and it's clear that it performs much worse, a reason could be that the cascade classifier is only for full bodies, a way to improve this performance could be to also use the haarcascade upper body and haar cascade lower body and see if it works better"
      ],
      "metadata": {
        "id": "JCV_Phgg22vX"
      }
    },
    {
      "cell_type": "code",
      "source": [
        "def viola_detector_powered(im_path): \n",
        "    \n",
        "  #Reading the Image\n",
        "  image = cv2.imread(im_path)\n",
        "\n",
        "  #convert in gray_scale since the cascade classifier works on gray_scale images\n",
        "  grayscale_image = cv2.cvtColor(image, cv2.COLOR_BGR2GRAY)\n",
        "\n",
        "  #load the cascade classifier, detect the bodies in the image and draw them for the user to see\n",
        "  body_cascade = cv2.CascadeClassifier('/haarcascade_fullbody.xml')\n",
        "  lbody_cascade = cv2.CascadeClassifier('/haarcascade_lowerbody.xml') #lower body\n",
        "  ubody_cascade = cv2.CascadeClassifier('/haarcascade_upperbody.xml') #upper body\n",
        "  \n",
        "  detected_bodies = body_cascade.detectMultiScale(grayscale_image)\n",
        "  ldetected_bodies = lbody_cascade.detectMultiScale(grayscale_image) #lower_body\n",
        "  udetected_bodies = ubody_cascade.detectMultiScale(grayscale_image) #upper_body\n",
        "  \n",
        "  tot_bodies = list(detected_bodies) + list(ldetected_bodies) + list(udetected_bodies) #concatenate all the detected bboxes\n",
        "\n",
        "  for (column, row, width, height) in tot_bodies:\n",
        "      cv2.rectangle(image,(column, row),(column + width, row + height),(0, 255, 0),4)    \n",
        "  #Showing the output Image\n",
        "  #cv2_imshow(image)\n",
        "\n",
        "  return tot_bodies"
      ],
      "metadata": {
        "id": "jzek-Pco3RcW"
      },
      "execution_count": 105,
      "outputs": []
    },
    {
      "cell_type": "code",
      "source": [
        "prop_regions_viola_powered = []\n",
        "for i in range(0,500):\n",
        "  prop_regions_viola_powered.append(viola_detector_powered(every_path[i]))"
      ],
      "metadata": {
        "id": "rXSDnOck4kf2"
      },
      "execution_count": 106,
      "outputs": []
    },
    {
      "cell_type": "code",
      "source": [
        "iou_thr = 0\n",
        "iou_thresholds = []\n",
        "detection_rate_iou_viola_powered = []\n",
        "for h in range(0,1000):\n",
        "  iou_thr += 0.001  \n",
        "  iou_thresholds.append(iou_thr)\n",
        "  detection_rate = [0]*500\n",
        "  for i in range(0,500):\n",
        "    for j in prop_regions_viola_powered[i]:\n",
        "      for h in bboxes[i]:\n",
        "        if (calc_iou(h,j) > iou_thr):\n",
        "          if(detection_rate[i] < len(bboxes[i])):\n",
        "            detection_rate[i] += 1;\n",
        "    detection_rate[i] = detection_rate[i]/len(bboxes[i])\n",
        "  temp = sum(detection_rate)/500\n",
        "  detection_rate_iou_viola_powered.append(temp)"
      ],
      "metadata": {
        "id": "DX9Spx8j8Tss"
      },
      "execution_count": 109,
      "outputs": []
    },
    {
      "cell_type": "code",
      "source": [
        "pyplot.plot(iou_thresholds, detection_rate_iou_viola_powered)\n",
        "pyplot.show()"
      ],
      "metadata": {
        "colab": {
          "base_uri": "https://localhost:8080/",
          "height": 265
        },
        "id": "m6HIwbVK9Emq",
        "outputId": "9e2fe5b0-483f-425c-a830-6e116db13c6f"
      },
      "execution_count": 112,
      "outputs": [
        {
          "output_type": "display_data",
          "data": {
            "text/plain": [
              "<Figure size 432x288 with 1 Axes>"
            ],
            "image/png": "[encoded data removed]"
          },
          "metadata": {
            "needs_background": "light"
          }
        }
      ]
    },
    {
      "cell_type": "markdown",
      "source": [
        "Now it performs much better! However using all this classifier could sensibly decrease the performances"
      ],
      "metadata": {
        "id": "6nubwXAZ-a3I"
      }
    },
    {
      "cell_type": "markdown",
      "source": [
        "# **TINY YOLO v3**\n",
        "\n",
        "Do the same type of evaluations on the tiny_yolo_v3 dataset"
      ],
      "metadata": {
        "id": "gsOxEeQW-kdc"
      }
    },
    {
      "cell_type": "code",
      "source": [
        "!git clone https://github.com/pjreddie/darknet\n",
        "%cd darknet\n",
        "!make"
      ],
      "metadata": {
        "colab": {
          "base_uri": "https://localhost:8080/"
        },
        "id": "buMQtwvaCXC1",
        "outputId": "cd9d14bc-62f9-450e-e56f-ecc1cc52dae8"
      },
      "execution_count": 120,
      "outputs": [
        {
          "output_type": "stream",
          "name": "stdout",
          "text": [
            "fatal: destination path 'darknet' already exists and is not an empty directory.\n",
            "/content/darknet\n",
            "mkdir -p obj\n",
            "mkdir -p backup\n",
            "mkdir -p results\n",
            "gcc -Iinclude/ -Isrc/ -Wall -Wno-unused-result -Wno-unknown-pragmas -Wfatal-errors -fPIC -Ofast -c ./src/gemm.c -o obj/gemm.o\n",
            "gcc -Iinclude/ -Isrc/ -Wall -Wno-unused-result -Wno-unknown-pragmas -Wfatal-errors -fPIC -Ofast -c ./src/utils.c -o obj/utils.o\n",
            "gcc -Iinclude/ -Isrc/ -Wall -Wno-unused-result -Wno-unknown-pragmas -Wfatal-errors -fPIC -Ofast -c ./src/cuda.c -o obj/cuda.o\n",
            "gcc -Iinclude/ -Isrc/ -Wall -Wno-unused-result -Wno-unknown-pragmas -Wfatal-errors -fPIC -Ofast -c ./src/deconvolutional_layer.c -o obj/deconvolutional_layer.o\n",
            "gcc -Iinclude/ -Isrc/ -Wall -Wno-unused-result -Wno-unknown-pragmas -Wfatal-errors -fPIC -Ofast -c ./src/convolutional_layer.c -o obj/convolutional_layer.o\n",
            "gcc -Iinclude/ -Isrc/ -Wall -Wno-unused-result -Wno-unknown-pragmas -Wfatal-errors -fPIC -Ofast -c ./src/list.c -o obj/list.o\n",
            "gcc -Iinclude/ -Isrc/ -Wall -Wno-unused-result -Wno-unknown-pragmas -Wfatal-errors -fPIC -Ofast -c ./src/image.c -o obj/image.o\n",
            "gcc -Iinclude/ -Isrc/ -Wall -Wno-unused-result -Wno-unknown-pragmas -Wfatal-errors -fPIC -Ofast -c ./src/activations.c -o obj/activations.o\n",
            "gcc -Iinclude/ -Isrc/ -Wall -Wno-unused-result -Wno-unknown-pragmas -Wfatal-errors -fPIC -Ofast -c ./src/im2col.c -o obj/im2col.o\n",
            "gcc -Iinclude/ -Isrc/ -Wall -Wno-unused-result -Wno-unknown-pragmas -Wfatal-errors -fPIC -Ofast -c ./src/col2im.c -o obj/col2im.o\n",
            "gcc -Iinclude/ -Isrc/ -Wall -Wno-unused-result -Wno-unknown-pragmas -Wfatal-errors -fPIC -Ofast -c ./src/blas.c -o obj/blas.o\n",
            "gcc -Iinclude/ -Isrc/ -Wall -Wno-unused-result -Wno-unknown-pragmas -Wfatal-errors -fPIC -Ofast -c ./src/crop_layer.c -o obj/crop_layer.o\n",
            "gcc -Iinclude/ -Isrc/ -Wall -Wno-unused-result -Wno-unknown-pragmas -Wfatal-errors -fPIC -Ofast -c ./src/dropout_layer.c -o obj/dropout_layer.o\n",
            "gcc -Iinclude/ -Isrc/ -Wall -Wno-unused-result -Wno-unknown-pragmas -Wfatal-errors -fPIC -Ofast -c ./src/maxpool_layer.c -o obj/maxpool_layer.o\n",
            "gcc -Iinclude/ -Isrc/ -Wall -Wno-unused-result -Wno-unknown-pragmas -Wfatal-errors -fPIC -Ofast -c ./src/softmax_layer.c -o obj/softmax_layer.o\n",
            "gcc -Iinclude/ -Isrc/ -Wall -Wno-unused-result -Wno-unknown-pragmas -Wfatal-errors -fPIC -Ofast -c ./src/data.c -o obj/data.o\n",
            "gcc -Iinclude/ -Isrc/ -Wall -Wno-unused-result -Wno-unknown-pragmas -Wfatal-errors -fPIC -Ofast -c ./src/matrix.c -o obj/matrix.o\n",
            "gcc -Iinclude/ -Isrc/ -Wall -Wno-unused-result -Wno-unknown-pragmas -Wfatal-errors -fPIC -Ofast -c ./src/network.c -o obj/network.o\n",
            "gcc -Iinclude/ -Isrc/ -Wall -Wno-unused-result -Wno-unknown-pragmas -Wfatal-errors -fPIC -Ofast -c ./src/connected_layer.c -o obj/connected_layer.o\n",
            "gcc -Iinclude/ -Isrc/ -Wall -Wno-unused-result -Wno-unknown-pragmas -Wfatal-errors -fPIC -Ofast -c ./src/cost_layer.c -o obj/cost_layer.o\n",
            "gcc -Iinclude/ -Isrc/ -Wall -Wno-unused-result -Wno-unknown-pragmas -Wfatal-errors -fPIC -Ofast -c ./src/parser.c -o obj/parser.o\n",
            "gcc -Iinclude/ -Isrc/ -Wall -Wno-unused-result -Wno-unknown-pragmas -Wfatal-errors -fPIC -Ofast -c ./src/option_list.c -o obj/option_list.o\n",
            "gcc -Iinclude/ -Isrc/ -Wall -Wno-unused-result -Wno-unknown-pragmas -Wfatal-errors -fPIC -Ofast -c ./src/detection_layer.c -o obj/detection_layer.o\n",
            "gcc -Iinclude/ -Isrc/ -Wall -Wno-unused-result -Wno-unknown-pragmas -Wfatal-errors -fPIC -Ofast -c ./src/route_layer.c -o obj/route_layer.o\n",
            "gcc -Iinclude/ -Isrc/ -Wall -Wno-unused-result -Wno-unknown-pragmas -Wfatal-errors -fPIC -Ofast -c ./src/upsample_layer.c -o obj/upsample_layer.o\n",
            "gcc -Iinclude/ -Isrc/ -Wall -Wno-unused-result -Wno-unknown-pragmas -Wfatal-errors -fPIC -Ofast -c ./src/box.c -o obj/box.o\n",
            "gcc -Iinclude/ -Isrc/ -Wall -Wno-unused-result -Wno-unknown-pragmas -Wfatal-errors -fPIC -Ofast -c ./src/normalization_layer.c -o obj/normalization_layer.o\n",
            "gcc -Iinclude/ -Isrc/ -Wall -Wno-unused-result -Wno-unknown-pragmas -Wfatal-errors -fPIC -Ofast -c ./src/avgpool_layer.c -o obj/avgpool_layer.o\n",
            "gcc -Iinclude/ -Isrc/ -Wall -Wno-unused-result -Wno-unknown-pragmas -Wfatal-errors -fPIC -Ofast -c ./src/layer.c -o obj/layer.o\n",
            "gcc -Iinclude/ -Isrc/ -Wall -Wno-unused-result -Wno-unknown-pragmas -Wfatal-errors -fPIC -Ofast -c ./src/local_layer.c -o obj/local_layer.o\n",
            "gcc -Iinclude/ -Isrc/ -Wall -Wno-unused-result -Wno-unknown-pragmas -Wfatal-errors -fPIC -Ofast -c ./src/shortcut_layer.c -o obj/shortcut_layer.o\n",
            "gcc -Iinclude/ -Isrc/ -Wall -Wno-unused-result -Wno-unknown-pragmas -Wfatal-errors -fPIC -Ofast -c ./src/logistic_layer.c -o obj/logistic_layer.o\n",
            "gcc -Iinclude/ -Isrc/ -Wall -Wno-unused-result -Wno-unknown-pragmas -Wfatal-errors -fPIC -Ofast -c ./src/activation_layer.c -o obj/activation_layer.o\n",
            "gcc -Iinclude/ -Isrc/ -Wall -Wno-unused-result -Wno-unknown-pragmas -Wfatal-errors -fPIC -Ofast -c ./src/rnn_layer.c -o obj/rnn_layer.o\n",
            "gcc -Iinclude/ -Isrc/ -Wall -Wno-unused-result -Wno-unknown-pragmas -Wfatal-errors -fPIC -Ofast -c ./src/gru_layer.c -o obj/gru_layer.o\n",
            "gcc -Iinclude/ -Isrc/ -Wall -Wno-unused-result -Wno-unknown-pragmas -Wfatal-errors -fPIC -Ofast -c ./src/crnn_layer.c -o obj/crnn_layer.o\n",
            "gcc -Iinclude/ -Isrc/ -Wall -Wno-unused-result -Wno-unknown-pragmas -Wfatal-errors -fPIC -Ofast -c ./src/demo.c -o obj/demo.o\n",
            "gcc -Iinclude/ -Isrc/ -Wall -Wno-unused-result -Wno-unknown-pragmas -Wfatal-errors -fPIC -Ofast -c ./src/batchnorm_layer.c -o obj/batchnorm_layer.o\n",
            "gcc -Iinclude/ -Isrc/ -Wall -Wno-unused-result -Wno-unknown-pragmas -Wfatal-errors -fPIC -Ofast -c ./src/region_layer.c -o obj/region_layer.o\n",
            "gcc -Iinclude/ -Isrc/ -Wall -Wno-unused-result -Wno-unknown-pragmas -Wfatal-errors -fPIC -Ofast -c ./src/reorg_layer.c -o obj/reorg_layer.o\n",
            "gcc -Iinclude/ -Isrc/ -Wall -Wno-unused-result -Wno-unknown-pragmas -Wfatal-errors -fPIC -Ofast -c ./src/tree.c -o obj/tree.o\n",
            "gcc -Iinclude/ -Isrc/ -Wall -Wno-unused-result -Wno-unknown-pragmas -Wfatal-errors -fPIC -Ofast -c ./src/lstm_layer.c -o obj/lstm_layer.o\n",
            "gcc -Iinclude/ -Isrc/ -Wall -Wno-unused-result -Wno-unknown-pragmas -Wfatal-errors -fPIC -Ofast -c ./src/l2norm_layer.c -o obj/l2norm_layer.o\n",
            "gcc -Iinclude/ -Isrc/ -Wall -Wno-unused-result -Wno-unknown-pragmas -Wfatal-errors -fPIC -Ofast -c ./src/yolo_layer.c -o obj/yolo_layer.o\n",
            "gcc -Iinclude/ -Isrc/ -Wall -Wno-unused-result -Wno-unknown-pragmas -Wfatal-errors -fPIC -Ofast -c ./src/iseg_layer.c -o obj/iseg_layer.o\n",
            "g++ -Iinclude/ -Isrc/ -Wall -Wno-unused-result -Wno-unknown-pragmas -Wfatal-errors -fPIC -Ofast -c ./src/image_opencv.cpp -o obj/image_opencv.o\n",
            "gcc -Wall -Wno-unused-result -Wno-unknown-pragmas -Wfatal-errors -fPIC -Ofast -shared obj/gemm.o obj/utils.o obj/cuda.o obj/deconvolutional_layer.o obj/convolutional_layer.o obj/list.o obj/image.o obj/activations.o obj/im2col.o obj/col2im.o obj/blas.o obj/crop_layer.o obj/dropout_layer.o obj/maxpool_layer.o obj/softmax_layer.o obj/data.o obj/matrix.o obj/network.o obj/connected_layer.o obj/cost_layer.o obj/parser.o obj/option_list.o obj/detection_layer.o obj/route_layer.o obj/upsample_layer.o obj/box.o obj/normalization_layer.o obj/avgpool_layer.o obj/layer.o obj/local_layer.o obj/shortcut_layer.o obj/logistic_layer.o obj/activation_layer.o obj/rnn_layer.o obj/gru_layer.o obj/crnn_layer.o obj/demo.o obj/batchnorm_layer.o obj/region_layer.o obj/reorg_layer.o obj/tree.o obj/lstm_layer.o obj/l2norm_layer.o obj/yolo_layer.o obj/iseg_layer.o obj/image_opencv.o -o libdarknet.so -lm -pthread \n",
            "ar rcs libdarknet.a obj/gemm.o obj/utils.o obj/cuda.o obj/deconvolutional_layer.o obj/convolutional_layer.o obj/list.o obj/image.o obj/activations.o obj/im2col.o obj/col2im.o obj/blas.o obj/crop_layer.o obj/dropout_layer.o obj/maxpool_layer.o obj/softmax_layer.o obj/data.o obj/matrix.o obj/network.o obj/connected_layer.o obj/cost_layer.o obj/parser.o obj/option_list.o obj/detection_layer.o obj/route_layer.o obj/upsample_layer.o obj/box.o obj/normalization_layer.o obj/avgpool_layer.o obj/layer.o obj/local_layer.o obj/shortcut_layer.o obj/logistic_layer.o obj/activation_layer.o obj/rnn_layer.o obj/gru_layer.o obj/crnn_layer.o obj/demo.o obj/batchnorm_layer.o obj/region_layer.o obj/reorg_layer.o obj/tree.o obj/lstm_layer.o obj/l2norm_layer.o obj/yolo_layer.o obj/iseg_layer.o obj/image_opencv.o\n",
            "gcc -Iinclude/ -Isrc/ -Wall -Wno-unused-result -Wno-unknown-pragmas -Wfatal-errors -fPIC -Ofast -c ./examples/captcha.c -o obj/captcha.o\n",
            "gcc -Iinclude/ -Isrc/ -Wall -Wno-unused-result -Wno-unknown-pragmas -Wfatal-errors -fPIC -Ofast -c ./examples/lsd.c -o obj/lsd.o\n",
            "gcc -Iinclude/ -Isrc/ -Wall -Wno-unused-result -Wno-unknown-pragmas -Wfatal-errors -fPIC -Ofast -c ./examples/super.c -o obj/super.o\n",
            "gcc -Iinclude/ -Isrc/ -Wall -Wno-unused-result -Wno-unknown-pragmas -Wfatal-errors -fPIC -Ofast -c ./examples/art.c -o obj/art.o\n",
            "gcc -Iinclude/ -Isrc/ -Wall -Wno-unused-result -Wno-unknown-pragmas -Wfatal-errors -fPIC -Ofast -c ./examples/tag.c -o obj/tag.o\n",
            "gcc -Iinclude/ -Isrc/ -Wall -Wno-unused-result -Wno-unknown-pragmas -Wfatal-errors -fPIC -Ofast -c ./examples/cifar.c -o obj/cifar.o\n",
            "gcc -Iinclude/ -Isrc/ -Wall -Wno-unused-result -Wno-unknown-pragmas -Wfatal-errors -fPIC -Ofast -c ./examples/go.c -o obj/go.o\n",
            "gcc -Iinclude/ -Isrc/ -Wall -Wno-unused-result -Wno-unknown-pragmas -Wfatal-errors -fPIC -Ofast -c ./examples/rnn.c -o obj/rnn.o\n",
            "gcc -Iinclude/ -Isrc/ -Wall -Wno-unused-result -Wno-unknown-pragmas -Wfatal-errors -fPIC -Ofast -c ./examples/segmenter.c -o obj/segmenter.o\n",
            "gcc -Iinclude/ -Isrc/ -Wall -Wno-unused-result -Wno-unknown-pragmas -Wfatal-errors -fPIC -Ofast -c ./examples/regressor.c -o obj/regressor.o\n",
            "gcc -Iinclude/ -Isrc/ -Wall -Wno-unused-result -Wno-unknown-pragmas -Wfatal-errors -fPIC -Ofast -c ./examples/classifier.c -o obj/classifier.o\n",
            "gcc -Iinclude/ -Isrc/ -Wall -Wno-unused-result -Wno-unknown-pragmas -Wfatal-errors -fPIC -Ofast -c ./examples/coco.c -o obj/coco.o\n",
            "gcc -Iinclude/ -Isrc/ -Wall -Wno-unused-result -Wno-unknown-pragmas -Wfatal-errors -fPIC -Ofast -c ./examples/yolo.c -o obj/yolo.o\n",
            "gcc -Iinclude/ -Isrc/ -Wall -Wno-unused-result -Wno-unknown-pragmas -Wfatal-errors -fPIC -Ofast -c ./examples/detector.c -o obj/detector.o\n",
            "gcc -Iinclude/ -Isrc/ -Wall -Wno-unused-result -Wno-unknown-pragmas -Wfatal-errors -fPIC -Ofast -c ./examples/nightmare.c -o obj/nightmare.o\n",
            "gcc -Iinclude/ -Isrc/ -Wall -Wno-unused-result -Wno-unknown-pragmas -Wfatal-errors -fPIC -Ofast -c ./examples/instance-segmenter.c -o obj/instance-segmenter.o\n",
            "gcc -Iinclude/ -Isrc/ -Wall -Wno-unused-result -Wno-unknown-pragmas -Wfatal-errors -fPIC -Ofast -c ./examples/darknet.c -o obj/darknet.o\n",
            "gcc -Iinclude/ -Isrc/ -Wall -Wno-unused-result -Wno-unknown-pragmas -Wfatal-errors -fPIC -Ofast obj/captcha.o obj/lsd.o obj/super.o obj/art.o obj/tag.o obj/cifar.o obj/go.o obj/rnn.o obj/segmenter.o obj/regressor.o obj/classifier.o obj/coco.o obj/yolo.o obj/detector.o obj/nightmare.o obj/instance-segmenter.o obj/darknet.o libdarknet.a -o darknet -lm -pthread  libdarknet.a\n"
          ]
        }
      ]
    },
    {
      "cell_type": "code",
      "source": [
        "!wget https://pjreddie.com/media/files/yolov3-tiny.weights"
      ],
      "metadata": {
        "colab": {
          "base_uri": "https://localhost:8080/"
        },
        "id": "R2V3RVJOGXz4",
        "outputId": "034ed5d0-c7f3-4d32-f9d1-a7fa4719bdbe"
      },
      "execution_count": 121,
      "outputs": [
        {
          "output_type": "stream",
          "name": "stdout",
          "text": [
            "--2022-06-16 10:48:06--  https://pjreddie.com/media/files/yolov3-tiny.weights\n",
            "Resolving pjreddie.com (pjreddie.com)... 128.208.4.108\n",
            "Connecting to pjreddie.com (pjreddie.com)|128.208.4.108|:443... connected.\n",
            "HTTP request sent, awaiting response... 200 OK\n",
            "Length: 35434956 (34M) [application/octet-stream]\n",
            "Saving to: ‘yolov3-tiny.weights’\n",
            "\n",
            "yolov3-tiny.weights 100%[===================>]  33.79M  27.4MB/s    in 1.2s    \n",
            "\n",
            "2022-06-16 10:48:08 (27.4 MB/s) - ‘yolov3-tiny.weights’ saved [35434956/35434956]\n",
            "\n"
          ]
        }
      ]
    }
  ]
}