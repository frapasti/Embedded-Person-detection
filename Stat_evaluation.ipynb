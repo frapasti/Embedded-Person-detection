{
  "nbformat": 4,
  "nbformat_minor": 0,
  "metadata": {
    "colab": {
      "name": "Stat_evaluation.ipynb",
      "provenance": [],
      "collapsed_sections": [],
      "authorship_tag": "ABX9TyNWhBcRVZ8Ih5fOF5leN97u",
      "include_colab_link": true
    },
    "kernelspec": {
      "name": "python3",
      "display_name": "Python 3"
    },
    "language_info": {
      "name": "python"
    }
  },
  "cells": [
    {
      "cell_type": "markdown",
      "metadata": {
        "id": "view-in-github",
        "colab_type": "text"
      },
      "source": [
        "<a href=\"https://colab.research.google.com/github/frapasti/Embedded-Person-detection/blob/main/Stat_evaluation.ipynb\" target=\"_parent\"><img src=\"https://colab.research.google.com/assets/colab-badge.svg\" alt=\"Open In Colab\"/></a>"
      ]
    },
    {
      "cell_type": "code",
      "execution_count": null,
      "metadata": {
        "id": "AS9E7CjsYIoa"
      },
      "outputs": [],
      "source": [
        "!pip install fiftyone --no-binary fiftyone,voxel51-eta\n",
        "import fiftyone as fo\n",
        "import fiftyone.zoo as foz\n",
        "import numpy as np\n",
        "from numpy import expand_dims\n",
        "from keras.models import load_model\n",
        "from keras.preprocessing.image import load_img\n",
        "from keras.preprocessing.image import img_to_array\n",
        "from matplotlib import pyplot\n",
        "from matplotlib.patches import Rectangle\n",
        "import json\n",
        "import cv2\n",
        "import imutils\n",
        "from google.colab.patches import cv2_imshow"
      ]
    },
    {
      "cell_type": "markdown",
      "source": [
        "Import a dataset of images containing persons from the coco test split"
      ],
      "metadata": {
        "id": "3-AYFOFWaUEd"
      }
    },
    {
      "cell_type": "code",
      "source": [
        "import fiftyone.zoo as foz\n",
        "\n",
        "dataset = foz.load_zoo_dataset(\n",
        "    \"coco-2017\",\n",
        "    split=\"validation\",\n",
        "    label_types=[\"detections\"],\n",
        "    classes=[\"person\"],\n",
        "    only_matching = True,\n",
        "    max_samples=300,\n",
        ")"
      ],
      "metadata": {
        "id": "omtbyj3faTDu"
      },
      "execution_count": null,
      "outputs": []
    },
    {
      "cell_type": "code",
      "source": [
        "dataset1 = foz.load_zoo_dataset(\n",
        "    \"coco-2017\",\n",
        "    split=\"train\",\n",
        "    label_types=[\"detections\"],\n",
        "    only_matching = True,\n",
        "    max_samples=150,\n",
        ")\n",
        "\n",
        "from fiftyone import ViewField as F\n",
        "class_name = \"Person\"\n",
        "\n",
        "# Find samples that have a \"Person\"\n",
        "pos_view = dataset1.filter_labels(\"ground_truth\", F(\"label\")==class_name)\n",
        "\n",
        "# Find all samples without a positively labeled \"Person\"\n",
        "neg_view = dataset1.exclude(pos_view)\n",
        "\n",
        "# Tag any samples that have a person in the App with \"remove\"\n",
        "session = fo.launch_app(view=neg_view)"
      ],
      "metadata": {
        "id": "cXJNaPvYNqsQ"
      },
      "execution_count": null,
      "outputs": []
    },
    {
      "cell_type": "code",
      "source": [
        "# Find and remove all tagged samples from the DatasetView\n",
        "neg_view = neg_view.match_tags(\"remove\", bool=False)\n",
        "\n",
        "neg_view.export(\n",
        "    export_dir=\"/content/nonPerson1\",\n",
        "    dataset_type=fo.types.COCODetectionDataset,\n",
        ")"
      ],
      "metadata": {
        "colab": {
          "base_uri": "https://localhost:8080/"
        },
        "id": "fDcAe7lfPrI3",
        "outputId": "09e6bd67-173c-45a1-fb05-2e48f9bffb66"
      },
      "execution_count": 7,
      "outputs": [
        {
          "output_type": "stream",
          "name": "stdout",
          "text": [
            " 100% |███████████████████| 78/78 [394.5ms elapsed, 0s remaining, 197.7 samples/s]      \n"
          ]
        }
      ]
    },
    {
      "cell_type": "markdown",
      "source": [
        "# **DATA ORGANIZATION**\n",
        "\n",
        "  Now extract the paths of the images that have been downloaded and save them in a list called \"**every_path**\"\n",
        "\n",
        "  For each image count the number of persons that are present and return the number in the list \"**counters**\"\n",
        "\n",
        "  For each image append the ground truth boxes in the list \"**bboxes**\"\n"
      ],
      "metadata": {
        "id": "6mhzoJMrgLIi"
      }
    },
    {
      "cell_type": "code",
      "source": [
        "f = open('/root/fiftyone/coco-2017/validation/labels.json')\n",
        "data = json.load(f)\n",
        "annotations = data['annotations']\n",
        "every_path = []\n",
        "cols = 10\n",
        "rows = 578\n",
        "bbox_size = 4\n",
        "counters = [0] * rows\n",
        "bboxes = [[] for i in range(rows)] \n",
        "items = 0\n",
        "#creation of the list of paths of images in the dataset\n",
        "for entry in data['annotations']:\n",
        "    class_id = entry['category_id']\n",
        "    if (class_id == 1):\n",
        "        img_id = entry['image_id']\n",
        "        path = float(img_id)/pow(10,11)\n",
        "        dec_path = format(path, '.11f')\n",
        "        final_path = ''\n",
        "        final_path = '/root/fiftyone/coco-2017/validation/data/'+ dec_path.replace('.', '') + '.jpg'\n",
        "        if(every_path.count(final_path) == 0):\n",
        "          every_path.append(final_path)\n",
        "          bboxes[items].append(entry['bbox'])\n",
        "          items = items + 1\n",
        "        else:\n",
        "          index = every_path.index(final_path)\n",
        "          if(counters[index] + 1 < 10):\n",
        "            bboxes[index].append(entry['bbox'])\n",
        "            counters[index] = counters[index] + 1\n",
        "\n",
        "import os\n",
        "\n",
        "def listdir_fullpath(d):\n",
        "    return [os.path.join(d, f) for f in os.listdir(d)]\n",
        "\n",
        "every_path.extend(listdir_fullpath(\"/content/nonPerson1/data\"))"
      ],
      "metadata": {
        "id": "2TDrn46sa25r"
      },
      "execution_count": 8,
      "outputs": []
    },
    {
      "cell_type": "markdown",
      "source": [
        "Function to calculate the Intersection Over Union of a ground box and a predicted box"
      ],
      "metadata": {
        "id": "zjW1XSM1wL0G"
      }
    },
    {
      "cell_type": "code",
      "source": [
        "def calc_iou( gt_bbox, pred_bbox):\n",
        "    '''\n",
        "    This function takes the predicted bounding box and ground truth bounding box and \n",
        "    return the IoU ratio\n",
        "    '''\n",
        "    x_topleft_gt, y_topleft_gt, x_bottomright_gt, y_bottomright_gt= gt_bbox[0] , gt_bbox[1], gt_bbox[0] + gt_bbox[2] , gt_bbox[1] + gt_bbox[3]\n",
        "    x_topleft_p, y_topleft_p, x_bottomright_p, y_bottomright_p= pred_bbox[0] , pred_bbox[1], pred_bbox[0] + pred_bbox[2] , pred_bbox[1] + pred_bbox[3]\n",
        "    \n",
        "    if (x_topleft_gt > x_bottomright_gt) or (y_topleft_gt> y_bottomright_gt):\n",
        "        raise AssertionError(\"Ground Truth Bounding Box is not correct\")\n",
        "    if (x_topleft_p > x_bottomright_p) or (y_topleft_p> y_bottomright_p):\n",
        "        raise AssertionError(\"Predicted Bounding Box is not correct\",x_topleft_p, x_bottomright_p,y_topleft_p,y_bottomright_gt)\n",
        "        \n",
        "         \n",
        "    #if the GT bbox and predcited BBox do not overlap then iou=0\n",
        "    if(x_bottomright_gt< x_topleft_p):\n",
        "        # If bottom right of x-coordinate  GT  bbox is less than or above the top left of x coordinate of  the predicted BBox\n",
        "        \n",
        "        return 0.0\n",
        "    if(y_bottomright_gt< y_topleft_p):  # If bottom right of y-coordinate  GT  bbox is less than or above the top left of y coordinate of  the predicted BBox\n",
        "        \n",
        "        return 0.0\n",
        "    if(x_topleft_gt> x_bottomright_p): # If bottom right of x-coordinate  GT  bbox is greater than or below the bottom right  of x coordinate of  the predcited BBox\n",
        "        \n",
        "        return 0.0\n",
        "    if(y_topleft_gt> y_bottomright_p): # If bottom right of y-coordinate  GT  bbox is greater than or below the bottom right  of y coordinate of  the predcited BBox\n",
        "        \n",
        "        return 0.0\n",
        "    \n",
        "    \n",
        "    GT_bbox_area = (x_bottomright_gt -  x_topleft_gt + 1) * (  y_bottomright_gt -y_topleft_gt + 1)\n",
        "    Pred_bbox_area =(x_bottomright_p - x_topleft_p + 1 ) * ( y_bottomright_p -y_topleft_p + 1)\n",
        "    \n",
        "    x_top_left =np.max([x_topleft_gt, x_topleft_p])\n",
        "    y_top_left = np.max([y_topleft_gt, y_topleft_p])\n",
        "    x_bottom_right = np.min([x_bottomright_gt, x_bottomright_p])\n",
        "    y_bottom_right = np.min([y_bottomright_gt, y_bottomright_p])\n",
        "    \n",
        "    intersection_area = (x_bottom_right- x_top_left + 1) * (y_bottom_right-y_top_left  + 1)\n",
        "    \n",
        "    union_area = (GT_bbox_area + Pred_bbox_area - intersection_area)\n",
        "   \n",
        "    return intersection_area/union_area"
      ],
      "metadata": {
        "id": "g_x2qGBzh8OX"
      },
      "execution_count": 9,
      "outputs": []
    },
    {
      "cell_type": "code",
      "source": [
        "def get_single_image_results(gt_boxes, pred_boxes, iou_thr):\n",
        "    \"\"\"Calculates number of true_pos, false_pos, false_neg from single batch of boxes.\n",
        "    Args:\n",
        "        gt_boxes (list of list of floats): list of locations of ground truth\n",
        "            objects as [xlest, yleft, width, height]\n",
        "        pred_boxes (dict): dict of dicts of 'boxes' (formatted like `gt_boxes`)\n",
        "            and 'scores'\n",
        "        iou_thr (float): value of IoU to consider as threshold for a\n",
        "            true prediction.\n",
        "    Returns:\n",
        "        dict: true positives (int), false positives (int), false negatives (int)\n",
        "    \"\"\"\n",
        "    \n",
        "    if len(gt_boxes)==0:\n",
        "        tp=0\n",
        "        fp=len(pred_boxes)\n",
        "        fn=0\n",
        "        return [tp, fp, fn]\n",
        "    \n",
        "    if len(pred_boxes)==0 & len(gt_boxes) != 0:\n",
        "        tp=0\n",
        "        fp=0\n",
        "        fn=len(gt_boxes)\n",
        "        return [tp, fp, fn]\n",
        "\n",
        "    if len(pred_boxes)==0 & len(gt_boxes) == 0:\n",
        "        tp=0\n",
        "        fp=0\n",
        "        fn=len(gt_boxes)\n",
        "        return [tp, fp, fn]\n",
        "    \n",
        "    tp = 0\n",
        "    for i in range(0, len(gt_boxes)):\n",
        "      for h in range(0, len(pred_boxes)):\n",
        "        if(calc_iou(gt_boxes[i],pred_boxes[h]) >= iou_thr):\n",
        "          if(tp < len(pred_boxes)):\n",
        "            tp += 1\n",
        "            break\n",
        "    fp = len(pred_boxes) - tp\n",
        "    fn = len(gt_boxes) - tp\n",
        "\n",
        "    return [tp, fp, fn]"
      ],
      "metadata": {
        "id": "0V1HhAv3aJyF"
      },
      "execution_count": 26,
      "outputs": []
    },
    {
      "cell_type": "code",
      "source": [
        "def calc_precision_recall(image_results):\n",
        "    \"\"\"Calculates precision and recall from the set of images\n",
        "    Args:\n",
        "        img_results (dict): dictionary formatted like:\n",
        "            {\n",
        "                'img_id1': {'true_pos': int, 'false_pos': int, 'false_neg': int},\n",
        "                'img_id2': ...\n",
        "                ...\n",
        "            }\n",
        "    Returns:\n",
        "        tuple: of floats of (precision, recall)\n",
        "    \"\"\"\n",
        "    true_positive=0\n",
        "    false_positive=0\n",
        "    false_negative=0\n",
        "    for img_id, res in image_results.items():\n",
        "        true_positive +=res['true_positive']\n",
        "        false_positive += res['false_positive']\n",
        "        false_negative += res['false_negative']\n",
        "        try:\n",
        "            precision = true_positive/(true_positive+ false_positive)\n",
        "        except ZeroDivisionError:\n",
        "            precision=0.0\n",
        "        try:\n",
        "            recall = true_positive/(true_positive + false_negative)\n",
        "        except ZeroDivisionError:\n",
        "            recall=0.0\n",
        "    return (precision, recall)"
      ],
      "metadata": {
        "id": "An06ZWVtalX_"
      },
      "execution_count": 11,
      "outputs": []
    },
    {
      "cell_type": "markdown",
      "source": [
        "# **HOG EVALUATION**\n",
        "\n",
        "Exploiting the hog detector provided by OpenCV, this detector returns a list of proposed boxes for an image"
      ],
      "metadata": {
        "id": "XxnR_nIlwVAG"
      }
    },
    {
      "cell_type": "code",
      "source": [
        "def hog_detector(im_path): \n",
        "  # Initializing the HOG person\n",
        "  # detector\n",
        "  hog = cv2.HOGDescriptor()\n",
        "  hog.setSVMDetector(cv2.HOGDescriptor_getDefaultPeopleDetector())\n",
        "    \n",
        "  # Reading the Image\n",
        "  image = cv2.imread(im_path)\n",
        "    \n",
        "  # Resizing the Image\n",
        "  image = imutils.resize(image,\n",
        "                        width=min(400, image.shape[1]))\n",
        "    \n",
        "  # Detecting all the regions in the \n",
        "  # Image that has a pedestrians inside it\n",
        "  (regions, _) = hog.detectMultiScale(image, \n",
        "                                      winStride=(4, 4),\n",
        "                                      padding=(4, 4),\n",
        "                                      scale=1.05)\n",
        "    \n",
        "  # Drawing the regions in the Image\n",
        "  for (x, y, w, h) in regions:\n",
        "      cv2.rectangle(image, (x, y), \n",
        "                    (x + w, y + h), \n",
        "                    (0, 0, 255), 2)\n",
        "    \n",
        "  # Showing the output Image\n",
        "  #cv2_imshow(image)\n",
        "\n",
        "  return regions"
      ],
      "metadata": {
        "id": "cRmiAge7etNN"
      },
      "execution_count": 12,
      "outputs": []
    },
    {
      "cell_type": "markdown",
      "source": [
        "Now for each image in our dataset we calculate the regions proposed by Hog and save them in the list **prop_regions**"
      ],
      "metadata": {
        "id": "Kk13AFJpwjZm"
      }
    },
    {
      "cell_type": "code",
      "source": [
        "prop_regions = []\n",
        "for i in range(0,578):\n",
        "  prop_regions.append(hog_detector(every_path[i]))"
      ],
      "metadata": {
        "id": "CxqQ7kIQevsG"
      },
      "execution_count": 13,
      "outputs": []
    },
    {
      "cell_type": "markdown",
      "source": [
        "Finally calcualte the detection rate based on an IOU_threshold, if the IoU threshold is small then more boxes will be considered as correct predictions.\n",
        "\n",
        "The number of correct predictions will then be compared with the number of supposed predictions, so the number of persons that are supposed to be in the image\n",
        "\n",
        "The script calculates the detection rate as person detected / total person based on different iou_thresholds"
      ],
      "metadata": {
        "id": "SWJ9g9uDw3S3"
      }
    },
    {
      "cell_type": "code",
      "source": [
        "iou_thr = 0\n",
        "iou_thresholds = []\n",
        "hog_results = np.zeros((1000,3))\n",
        "HOG_precision = np.zeros((1000,))\n",
        "HOG_recall = np.zeros((1000,))\n",
        "HOG_f1 = np.zeros((1000,))\n",
        "HOG_missrate = np.zeros((1000,))\n",
        "for h in range(0,1000):\n",
        "  iou_thr += 0.001  \n",
        "  iou_thresholds.append(iou_thr)\n",
        "  tp = 0\n",
        "  fp = 0\n",
        "  fn = 0 \n",
        "  for i in range(0, 578):\n",
        "    res = get_single_image_results(bboxes[i],prop_regions[i],iou_thr)\n",
        "    tp += res[0]\n",
        "    fp += res[1]\n",
        "    fn += res[2]\n",
        "  hog_results[h][0] = tp\n",
        "  hog_results[h][1] = fp\n",
        "  hog_results[h][2] = fn\n",
        "  prec = tp / (tp + fp)\n",
        "  rec = tp / (tp + fn)\n",
        "  HOG_precision[h] = tp / (tp + fp)\n",
        "  HOG_recall[h] = tp / (tp + fn)\n",
        "  if(prec + rec != 0):\n",
        "    HOG_f1[h] = 2 * (prec * rec)/ (prec + rec)\n",
        "  HOG_missrate[h] = fn / (tp + fn) \n",
        "  "
      ],
      "metadata": {
        "id": "NkZFaT_Vb4Jp"
      },
      "execution_count": 43,
      "outputs": []
    },
    {
      "cell_type": "code",
      "source": [
        "pyplot.plot(iou_thresholds, HOG_precision)\n",
        "pyplot.show()\n",
        "\n",
        "pyplot.plot(iou_thresholds, HOG_recall)\n",
        "pyplot.show()\n",
        "\n",
        "pyplot.plot(iou_thresholds, HOG_missrate)\n",
        "pyplot.show()\n",
        "\n",
        "from scipy.io import savemat\n",
        "\n",
        "mdic = {\"iou_threshold\": iou_thresholds}\n",
        "savemat(\"/content/HOG_results/iou_thresholds.mat\", mdic)\n",
        "\n",
        "mdic = {\"HOG_precision\": HOG_precision}\n",
        "savemat(\"/content/HOG_results/HOG_precision.mat\", mdic)\n",
        "\n",
        "mdic = {\"HOG_recall\": HOG_recall}\n",
        "savemat(\"/content/HOG_results/HOG_recall.mat\", mdic)\n",
        "\n",
        "mdic = {\"HOG_missrate\": HOG_missrate}\n",
        "savemat(\"/content/HOG_results/HOG_missrate.mat\", mdic)\n",
        "\n",
        "mdic = {\"HOG_f1\": HOG_f1}\n",
        "savemat(\"/content/HOG_results/HOG_f1.mat\", mdic)"
      ],
      "metadata": {
        "colab": {
          "base_uri": "https://localhost:8080/",
          "height": 761
        },
        "id": "SvEU2_NTtB1A",
        "outputId": "b659d5de-d483-439b-cb89-60e72dff7225"
      },
      "execution_count": 47,
      "outputs": [
        {
          "output_type": "display_data",
          "data": {
            "text/plain": [
              "<Figure size 432x288 with 1 Axes>"
            ],
            "image/png": "[encoded data removed]"
          },
          "metadata": {
            "needs_background": "light"
          }
        },
        {
          "output_type": "display_data",
          "data": {
            "text/plain": [
              "<Figure size 432x288 with 1 Axes>"
            ],
            "image/png": "[encoded data removed]"
          },
          "metadata": {
            "needs_background": "light"
          }
        },
        {
          "output_type": "display_data",
          "data": {
            "text/plain": [
              "<Figure size 432x288 with 1 Axes>"
            ],
            "image/png": "[encoded data removed]"
          },
          "metadata": {
            "needs_background": "light"
          }
        }
      ]
    },
    {
      "cell_type": "markdown",
      "source": [
        "# **VIOLA AND JONES**\n",
        "\n",
        "Now do the same type of evaluation for the Viola and Jones method provided by OpenCV"
      ],
      "metadata": {
        "id": "iOwxGCELyZ8W"
      }
    },
    {
      "cell_type": "code",
      "source": [
        "def viola_detector(im_path): \n",
        "    \n",
        "  #Reading the Image\n",
        "  image = cv2.imread(im_path)\n",
        "\n",
        "  #convert in gray_scale since the cascade classifier works on gray_scale images\n",
        "  grayscale_image = cv2.cvtColor(image, cv2.COLOR_BGR2GRAY)\n",
        "\n",
        "  #load the cascade classifier, detect the bodies in the image and draw them for the user to see\n",
        "  body_cascade = cv2.CascadeClassifier('/content/haarcascade_fullbody.xml')\n",
        "  detected_bodies = body_cascade.detectMultiScale(grayscale_image)\n",
        "  for (column, row, width, height) in detected_bodies:\n",
        "      cv2.rectangle(image,(column, row),(column + width, row + height),(0, 255, 0),4)    \n",
        "  #Showing the output Image\n",
        "  #cv2_imshow(image)\n",
        "\n",
        "  return detected_bodies"
      ],
      "metadata": {
        "id": "JfWa9HDUyY92"
      },
      "execution_count": 52,
      "outputs": []
    },
    {
      "cell_type": "code",
      "source": [
        "prop_regions_viola = []\n",
        "for i in range(0,578):\n",
        "  prop_regions_viola.append(viola_detector(every_path[i]))"
      ],
      "metadata": {
        "id": "IOKV8D050Gws"
      },
      "execution_count": 53,
      "outputs": []
    },
    {
      "cell_type": "code",
      "source": [
        "iou_thr = 0\n",
        "iou_thresholds = []\n",
        "viola_results = np.zeros((1000,3))\n",
        "viola_precision = np.zeros((1000,))\n",
        "viola_recall = np.zeros((1000,))\n",
        "viola_f1 = np.zeros((1000,))\n",
        "viola_missrate = np.zeros((1000,))\n",
        "for h in range(0,1000):\n",
        "  iou_thr += 0.001  \n",
        "  iou_thresholds.append(iou_thr)\n",
        "  tp = 0\n",
        "  fp = 0\n",
        "  fn = 0 \n",
        "  for i in range(0, 578):\n",
        "    res = get_single_image_results(bboxes[i],prop_regions_viola[i],iou_thr)\n",
        "    tp += res[0]\n",
        "    fp += res[1]\n",
        "    fn += res[2]\n",
        "  viola_results[h][0] = tp\n",
        "  viola_results[h][1] = fp\n",
        "  viola_results[h][2] = fn\n",
        "  prec = tp / (tp + fp)\n",
        "  rec = tp / (tp + fn)\n",
        "  viola_precision[h] = tp / (tp + fp)\n",
        "  viola_recall[h] = tp / (tp + fn)\n",
        "  if(prec + rec != 0):\n",
        "    viola_f1[h] = 2 * (prec * rec)/ (prec + rec)\n",
        "  viola_missrate[h] = fn / (tp + fn) "
      ],
      "metadata": {
        "id": "u3z0lydL2SXu"
      },
      "execution_count": 54,
      "outputs": []
    },
    {
      "cell_type": "code",
      "source": [
        "pyplot.plot(iou_thresholds, viola_precision)\n",
        "pyplot.show()\n",
        "\n",
        "pyplot.plot(iou_thresholds, viola_recall)\n",
        "pyplot.show()\n",
        "\n",
        "pyplot.plot(iou_thresholds, viola_missrate)\n",
        "pyplot.show()\n",
        "\n",
        "from scipy.io import savemat\n",
        "\n",
        "mdic = {\"viola_threshold\": iou_thresholds}\n",
        "savemat(\"/content/VIOLA_results/iou_thresholds.mat\", mdic)\n",
        "\n",
        "mdic = {\"viola_precision\": viola_precision}\n",
        "savemat(\"/content/VIOLA_results/viola_precision.mat\", mdic)\n",
        "\n",
        "mdic = {\"viola_recall\": viola_recall}\n",
        "savemat(\"/content/VIOLA_results/viola_recall.mat\", mdic)\n",
        "\n",
        "mdic = {\"viola_missrate\": viola_missrate}\n",
        "savemat(\"/content/VIOLA_results/viola_missrate.mat\", mdic)\n",
        "\n",
        "mdic = {\"viola_f1\": viola_f1}\n",
        "savemat(\"/content/VIOLA_results/viola_f1.mat\", mdic)"
      ],
      "metadata": {
        "colab": {
          "base_uri": "https://localhost:8080/",
          "height": 761
        },
        "id": "3ReMF1bJ2Zyc",
        "outputId": "f51c6670-0ae4-4597-ecef-a9b0b7247c4b"
      },
      "execution_count": 56,
      "outputs": [
        {
          "output_type": "display_data",
          "data": {
            "text/plain": [
              "<Figure size 432x288 with 1 Axes>"
            ],
            "image/png": "[encoded data removed]"
          },
          "metadata": {
            "needs_background": "light"
          }
        },
        {
          "output_type": "display_data",
          "data": {
            "text/plain": [
              "<Figure size 432x288 with 1 Axes>"
            ],
            "image/png": "[encoded data removed]"
          },
          "metadata": {
            "needs_background": "light"
          }
        },
        {
          "output_type": "display_data",
          "data": {
            "text/plain": [
              "<Figure size 432x288 with 1 Axes>"
            ],
            "image/png": "[encoded data removed]"
          },
          "metadata": {
            "needs_background": "light"
          }
        }
      ]
    },
    {
      "cell_type": "markdown",
      "source": [
        "# **Improving Viola**\n",
        "\n",
        "The same type of test have been done on the Viola and Jones detector and it's clear that it performs much worse, a reason could be that the cascade classifier is only for full bodies, a way to improve this performance could be to also use the haarcascade upper body and haar cascade lower body and see if it works better"
      ],
      "metadata": {
        "id": "JCV_Phgg22vX"
      }
    },
    {
      "cell_type": "code",
      "source": [
        "def viola_detector_powered(im_path): \n",
        "    \n",
        "  #Reading the Image\n",
        "  image = cv2.imread(im_path)\n",
        "\n",
        "  #convert in gray_scale since the cascade classifier works on gray_scale images\n",
        "  grayscale_image = cv2.cvtColor(image, cv2.COLOR_BGR2GRAY)\n",
        "\n",
        "  #load the cascade classifier, detect the bodies in the image and draw them for the user to see\n",
        "  body_cascade = cv2.CascadeClassifier('/content/haarcascade_fullbody.xml')\n",
        "  lbody_cascade = cv2.CascadeClassifier('/content/haarcascade_lowerbody.xml') #lower body\n",
        "  ubody_cascade = cv2.CascadeClassifier('/content/haarcascade_upperbody.xml') #upper body\n",
        "  \n",
        "  detected_bodies = body_cascade.detectMultiScale(grayscale_image)\n",
        "  ldetected_bodies = lbody_cascade.detectMultiScale(grayscale_image) #lower_body\n",
        "  udetected_bodies = ubody_cascade.detectMultiScale(grayscale_image) #upper_body\n",
        "  \n",
        "  tot_bodies = list(detected_bodies) + list(ldetected_bodies) + list(udetected_bodies) #concatenate all the detected bboxes\n",
        "\n",
        "  for (column, row, width, height) in tot_bodies:\n",
        "      cv2.rectangle(image,(column, row),(column + width, row + height),(0, 255, 0),4)    \n",
        "  #Showing the output Image\n",
        "  #cv2_imshow(image)\n",
        "\n",
        "  return tot_bodies"
      ],
      "metadata": {
        "id": "jzek-Pco3RcW"
      },
      "execution_count": 57,
      "outputs": []
    },
    {
      "cell_type": "markdown",
      "source": [
        "NB : Next cell took 7 min 33 seconds!"
      ],
      "metadata": {
        "id": "ipzlT4Tk71_B"
      }
    },
    {
      "cell_type": "code",
      "source": [
        "prop_regions_viola_powered = []\n",
        "for i in range(0,578):\n",
        "  prop_regions_viola_powered.append(viola_detector_powered(every_path[i]))"
      ],
      "metadata": {
        "id": "rXSDnOck4kf2"
      },
      "execution_count": 58,
      "outputs": []
    },
    {
      "cell_type": "code",
      "source": [
        "iou_thr = 0\n",
        "iou_thresholds = []\n",
        "pow_viola_results = np.zeros((1000,3))\n",
        "pow_viola_precision = np.zeros((1000,))\n",
        "pow_viola_recall = np.zeros((1000,))\n",
        "pow_viola_f1 = np.zeros((1000,))\n",
        "pow_viola_missrate = np.zeros((1000,))\n",
        "for h in range(0,1000):\n",
        "  iou_thr += 0.001  \n",
        "  iou_thresholds.append(iou_thr)\n",
        "  tp = 0\n",
        "  fp = 0\n",
        "  fn = 0 \n",
        "  for i in range(0, 578):\n",
        "    res = get_single_image_results(bboxes[i],prop_regions_viola_powered[i],iou_thr)\n",
        "    tp += res[0]\n",
        "    fp += res[1]\n",
        "    fn += res[2]\n",
        "  pow_viola_results[h][0] = tp\n",
        "  pow_viola_results[h][1] = fp\n",
        "  pow_viola_results[h][2] = fn\n",
        "  prec = tp / (tp + fp)\n",
        "  rec = tp / (tp + fn)\n",
        "  pow_viola_precision[h] = tp / (tp + fp)\n",
        "  pow_viola_recall[h] = tp / (tp + fn)\n",
        "  if(prec + rec != 0):\n",
        "    pow_viola_f1[h] = 2 * (prec * rec)/ (prec + rec)\n",
        "  pow_viola_missrate[h] = fn / (tp + fn) "
      ],
      "metadata": {
        "id": "DX9Spx8j8Tss"
      },
      "execution_count": 59,
      "outputs": []
    },
    {
      "cell_type": "code",
      "source": [
        "pyplot.plot(iou_thresholds, pow_viola_precision)\n",
        "pyplot.show()\n",
        "\n",
        "pyplot.plot(iou_thresholds, pow_viola_recall)\n",
        "pyplot.show()\n",
        "\n",
        "pyplot.plot(iou_thresholds, pow_viola_missrate)\n",
        "pyplot.show()\n",
        "\n",
        "from scipy.io import savemat\n",
        "\n",
        "mdic = {\"pow_viola_threshold\": iou_thresholds}\n",
        "savemat(\"/content/pow_VIOLA_results/iou_thresholds.mat\", mdic)\n",
        "\n",
        "mdic = {\"pow_viola_precision\": pow_viola_precision}\n",
        "savemat(\"/content/pow_VIOLA_results/pow_viola_precision.mat\", mdic)\n",
        "\n",
        "mdic = {\"pow_viola_recall\": pow_viola_recall}\n",
        "savemat(\"/content/pow_VIOLA_results/pow_viola_recall.mat\", mdic)\n",
        "\n",
        "mdic = {\"pow_viola_missrate\": pow_viola_missrate}\n",
        "savemat(\"/content/pow_VIOLA_results/pow_viola_missrate.mat\", mdic)\n",
        "\n",
        "mdic = {\"pow_viola_f1\": pow_viola_f1}\n",
        "savemat(\"/content/pow_VIOLA_results/pow_viola_f1.mat\", mdic)"
      ],
      "metadata": {
        "colab": {
          "base_uri": "https://localhost:8080/",
          "height": 761
        },
        "id": "m6HIwbVK9Emq",
        "outputId": "25328310-546c-4d44-f48e-fdb62c1e006a"
      },
      "execution_count": 60,
      "outputs": [
        {
          "output_type": "display_data",
          "data": {
            "text/plain": [
              "<Figure size 432x288 with 1 Axes>"
            ],
            "image/png": "[encoded data removed]"
          },
          "metadata": {
            "needs_background": "light"
          }
        },
        {
          "output_type": "display_data",
          "data": {
            "text/plain": [
              "<Figure size 432x288 with 1 Axes>"
            ],
            "image/png": "[encoded data removed]"
          },
          "metadata": {
            "needs_background": "light"
          }
        },
        {
          "output_type": "display_data",
          "data": {
            "text/plain": [
              "<Figure size 432x288 with 1 Axes>"
            ],
            "image/png": "[encoded data removed]"
          },
          "metadata": {
            "needs_background": "light"
          }
        }
      ]
    },
    {
      "cell_type": "markdown",
      "source": [
        "Now it performs much better! However using all this classifier could sensibly decrease the performances"
      ],
      "metadata": {
        "id": "6nubwXAZ-a3I"
      }
    },
    {
      "cell_type": "markdown",
      "source": [
        "# **YOLO v3**\n",
        "\n",
        "Do the same type of evaluations on the YOLO v3 model that has been already been trained.\n",
        "The trained model is able to detect 80 classes! However we are only interested in the person class. So we extract only the predicted bounding boxes associated with that class and perform the needed evaluations \n",
        "\n",
        "The weights are downloaded directly by darknet and mounted on the keras sequential yolo model.\n",
        "\n"
      ],
      "metadata": {
        "id": "gsOxEeQW-kdc"
      }
    },
    {
      "cell_type": "code",
      "source": [
        "!wget https://pjreddie.com/media/files/yolov3.weights"
      ],
      "metadata": {
        "colab": {
          "base_uri": "https://localhost:8080/"
        },
        "id": "R2V3RVJOGXz4",
        "outputId": "5869f829-2443-4732-ffa9-a5b6b4802ab4"
      },
      "execution_count": 61,
      "outputs": [
        {
          "output_type": "stream",
          "name": "stdout",
          "text": [
            "--2022-06-21 11:05:51--  https://pjreddie.com/media/files/yolov3.weights\n",
            "Resolving pjreddie.com (pjreddie.com)... 128.208.4.108\n",
            "Connecting to pjreddie.com (pjreddie.com)|128.208.4.108|:443... connected.\n",
            "HTTP request sent, awaiting response... 200 OK\n",
            "Length: 248007048 (237M) [application/octet-stream]\n",
            "Saving to: ‘yolov3.weights’\n",
            "\n",
            "yolov3.weights      100%[===================>] 236.52M  39.8MB/s    in 6.3s    \n",
            "\n",
            "2022-06-21 11:05:58 (37.3 MB/s) - ‘yolov3.weights’ saved [248007048/248007048]\n",
            "\n"
          ]
        }
      ]
    },
    {
      "cell_type": "code",
      "source": [
        "import argparse\n",
        "import os\n",
        "import numpy as np\n",
        "from keras.layers import Conv2D, Input, BatchNormalization, LeakyReLU, ZeroPadding2D, UpSampling2D\n",
        "from keras.layers.merge import add, concatenate\n",
        "from keras.models import Model\n",
        "import struct\n",
        "import cv2\n",
        "import sys\n",
        "import numpy as np\n",
        "from numpy import expand_dims\n",
        "from keras.models import load_model\n",
        "from keras.preprocessing.image import load_img\n",
        "from keras.preprocessing.image import img_to_array\n",
        "from matplotlib import pyplot\n",
        "from matplotlib.patches import Rectangle\n",
        "\n",
        "\n",
        "\n",
        "np.set_printoptions(threshold=sys.maxsize)\n",
        "os.environ[\"CUDA_DEVICE_ORDER\"]=\"PCI_BUS_ID\"\n",
        "os.environ[\"CUDA_VISIBLE_DEVICES\"]=\"0\""
      ],
      "metadata": {
        "id": "43XldgCWYYIO"
      },
      "execution_count": 62,
      "outputs": []
    },
    {
      "cell_type": "markdown",
      "source": [
        "Below there are a number of classes and functions that are needed to execute the yolo network. They have been hidden to have a cleaner notebook"
      ],
      "metadata": {
        "id": "QT16kqF3d4RB"
      }
    },
    {
      "cell_type": "code",
      "source": [
        "#@title\n",
        "\n",
        "def _conv_block(inp, convs, skip=True):\n",
        "    x = inp\n",
        "    count = 0\n",
        "    \n",
        "    for conv in convs:\n",
        "        if count == (len(convs) - 2) and skip:\n",
        "            skip_connection = x\n",
        "        count += 1\n",
        "        \n",
        "        if conv['stride'] > 1: x = ZeroPadding2D(((1,0),(1,0)))(x) # peculiar padding as darknet prefer left and top\n",
        "        x = Conv2D(conv['filter'], \n",
        "                   conv['kernel'], \n",
        "                   strides=conv['stride'], \n",
        "                   padding='valid' if conv['stride'] > 1 else 'same', # peculiar padding as darknet prefer left and top\n",
        "                   name='conv_' + str(conv['layer_idx']), \n",
        "                   use_bias=False if conv['bnorm'] else True)(x)\n",
        "        if conv['bnorm']: x = BatchNormalization(epsilon=0.001, name='bnorm_' + str(conv['layer_idx']))(x)\n",
        "        if conv['leaky']: x = LeakyReLU(alpha=0.1, name='leaky_' + str(conv['layer_idx']))(x)\n",
        "\n",
        "    return add([skip_connection, x]) if skip else x\n",
        "\n",
        "\n",
        "def make_yolov3_model():\n",
        "    input_image = Input(shape=(None, None, 3))\n",
        "\n",
        "    # Layer  0 => 4\n",
        "    x = _conv_block(input_image, [{'filter': 32, 'kernel': 3, 'stride': 1, 'bnorm': True, 'leaky': True, 'layer_idx': 0},\n",
        "                                  {'filter': 64, 'kernel': 3, 'stride': 2, 'bnorm': True, 'leaky': True, 'layer_idx': 1},\n",
        "                                  {'filter': 32, 'kernel': 1, 'stride': 1, 'bnorm': True, 'leaky': True, 'layer_idx': 2},\n",
        "                                  {'filter': 64, 'kernel': 3, 'stride': 1, 'bnorm': True, 'leaky': True, 'layer_idx': 3}])\n",
        "\n",
        "    # Layer  5 => 8\n",
        "    x = _conv_block(x, [{'filter': 128, 'kernel': 3, 'stride': 2, 'bnorm': True, 'leaky': True, 'layer_idx': 5},\n",
        "                        {'filter':  64, 'kernel': 1, 'stride': 1, 'bnorm': True, 'leaky': True, 'layer_idx': 6},\n",
        "                        {'filter': 128, 'kernel': 3, 'stride': 1, 'bnorm': True, 'leaky': True, 'layer_idx': 7}])\n",
        "\n",
        "    # Layer  9 => 11\n",
        "    x = _conv_block(x, [{'filter':  64, 'kernel': 1, 'stride': 1, 'bnorm': True, 'leaky': True, 'layer_idx': 9},\n",
        "                        {'filter': 128, 'kernel': 3, 'stride': 1, 'bnorm': True, 'leaky': True, 'layer_idx': 10}])\n",
        "\n",
        "    # Layer 12 => 15\n",
        "    x = _conv_block(x, [{'filter': 256, 'kernel': 3, 'stride': 2, 'bnorm': True, 'leaky': True, 'layer_idx': 12},\n",
        "                        {'filter': 128, 'kernel': 1, 'stride': 1, 'bnorm': True, 'leaky': True, 'layer_idx': 13},\n",
        "                        {'filter': 256, 'kernel': 3, 'stride': 1, 'bnorm': True, 'leaky': True, 'layer_idx': 14}])\n",
        "\n",
        "    # Layer 16 => 36\n",
        "    for i in range(7):\n",
        "        x = _conv_block(x, [{'filter': 128, 'kernel': 1, 'stride': 1, 'bnorm': True, 'leaky': True, 'layer_idx': 16+i*3},\n",
        "                            {'filter': 256, 'kernel': 3, 'stride': 1, 'bnorm': True, 'leaky': True, 'layer_idx': 17+i*3}])\n",
        "        \n",
        "    skip_36 = x\n",
        "        \n",
        "    # Layer 37 => 40\n",
        "    x = _conv_block(x, [{'filter': 512, 'kernel': 3, 'stride': 2, 'bnorm': True, 'leaky': True, 'layer_idx': 37},\n",
        "                        {'filter': 256, 'kernel': 1, 'stride': 1, 'bnorm': True, 'leaky': True, 'layer_idx': 38},\n",
        "                        {'filter': 512, 'kernel': 3, 'stride': 1, 'bnorm': True, 'leaky': True, 'layer_idx': 39}])\n",
        "\n",
        "    # Layer 41 => 61\n",
        "    for i in range(7):\n",
        "        x = _conv_block(x, [{'filter': 256, 'kernel': 1, 'stride': 1, 'bnorm': True, 'leaky': True, 'layer_idx': 41+i*3},\n",
        "                            {'filter': 512, 'kernel': 3, 'stride': 1, 'bnorm': True, 'leaky': True, 'layer_idx': 42+i*3}])\n",
        "        \n",
        "    skip_61 = x\n",
        "        \n",
        "    # Layer 62 => 65\n",
        "    x = _conv_block(x, [{'filter': 1024, 'kernel': 3, 'stride': 2, 'bnorm': True, 'leaky': True, 'layer_idx': 62},\n",
        "                        {'filter':  512, 'kernel': 1, 'stride': 1, 'bnorm': True, 'leaky': True, 'layer_idx': 63},\n",
        "                        {'filter': 1024, 'kernel': 3, 'stride': 1, 'bnorm': True, 'leaky': True, 'layer_idx': 64}])\n",
        "\n",
        "    # Layer 66 => 74\n",
        "    for i in range(3):\n",
        "        x = _conv_block(x, [{'filter':  512, 'kernel': 1, 'stride': 1, 'bnorm': True, 'leaky': True, 'layer_idx': 66+i*3},\n",
        "                            {'filter': 1024, 'kernel': 3, 'stride': 1, 'bnorm': True, 'leaky': True, 'layer_idx': 67+i*3}])\n",
        "        \n",
        "    # Layer 75 => 79\n",
        "    x = _conv_block(x, [{'filter':  512, 'kernel': 1, 'stride': 1, 'bnorm': True, 'leaky': True, 'layer_idx': 75},\n",
        "                        {'filter': 1024, 'kernel': 3, 'stride': 1, 'bnorm': True, 'leaky': True, 'layer_idx': 76},\n",
        "                        {'filter':  512, 'kernel': 1, 'stride': 1, 'bnorm': True, 'leaky': True, 'layer_idx': 77},\n",
        "                        {'filter': 1024, 'kernel': 3, 'stride': 1, 'bnorm': True, 'leaky': True, 'layer_idx': 78},\n",
        "                        {'filter':  512, 'kernel': 1, 'stride': 1, 'bnorm': True, 'leaky': True, 'layer_idx': 79}], skip=False)\n",
        "\n",
        "    # Layer 80 => 82\n",
        "    yolo_82 = _conv_block(x, [{'filter': 1024, 'kernel': 3, 'stride': 1, 'bnorm': True,  'leaky': True,  'layer_idx': 80},\n",
        "                              {'filter':  255, 'kernel': 1, 'stride': 1, 'bnorm': False, 'leaky': False, 'layer_idx': 81}], skip=False)\n",
        "\n",
        "    # Layer 83 => 86\n",
        "    x = _conv_block(x, [{'filter': 256, 'kernel': 1, 'stride': 1, 'bnorm': True, 'leaky': True, 'layer_idx': 84}], skip=False)\n",
        "    x = UpSampling2D(2)(x)\n",
        "    x = concatenate([x, skip_61])\n",
        "\n",
        "    # Layer 87 => 91\n",
        "    x = _conv_block(x, [{'filter': 256, 'kernel': 1, 'stride': 1, 'bnorm': True, 'leaky': True, 'layer_idx': 87},\n",
        "                        {'filter': 512, 'kernel': 3, 'stride': 1, 'bnorm': True, 'leaky': True, 'layer_idx': 88},\n",
        "                        {'filter': 256, 'kernel': 1, 'stride': 1, 'bnorm': True, 'leaky': True, 'layer_idx': 89},\n",
        "                        {'filter': 512, 'kernel': 3, 'stride': 1, 'bnorm': True, 'leaky': True, 'layer_idx': 90},\n",
        "                        {'filter': 256, 'kernel': 1, 'stride': 1, 'bnorm': True, 'leaky': True, 'layer_idx': 91}], skip=False)\n",
        "\n",
        "    # Layer 92 => 94\n",
        "    yolo_94 = _conv_block(x, [{'filter': 512, 'kernel': 3, 'stride': 1, 'bnorm': True,  'leaky': True,  'layer_idx': 92},\n",
        "                              {'filter': 255, 'kernel': 1, 'stride': 1, 'bnorm': False, 'leaky': False, 'layer_idx': 93}], skip=False)\n",
        "\n",
        "    # Layer 95 => 98\n",
        "    x = _conv_block(x, [{'filter': 128, 'kernel': 1, 'stride': 1, 'bnorm': True, 'leaky': True,   'layer_idx': 96}], skip=False)\n",
        "    x = UpSampling2D(2)(x)\n",
        "    x = concatenate([x, skip_36])\n",
        "\n",
        "    # Layer 99 => 106\n",
        "    yolo_106 = _conv_block(x, [{'filter': 128, 'kernel': 1, 'stride': 1, 'bnorm': True,  'leaky': True,  'layer_idx': 99},\n",
        "                               {'filter': 256, 'kernel': 3, 'stride': 1, 'bnorm': True,  'leaky': True,  'layer_idx': 100},\n",
        "                               {'filter': 128, 'kernel': 1, 'stride': 1, 'bnorm': True,  'leaky': True,  'layer_idx': 101},\n",
        "                               {'filter': 256, 'kernel': 3, 'stride': 1, 'bnorm': True,  'leaky': True,  'layer_idx': 102},\n",
        "                               {'filter': 128, 'kernel': 1, 'stride': 1, 'bnorm': True,  'leaky': True,  'layer_idx': 103},\n",
        "                               {'filter': 256, 'kernel': 3, 'stride': 1, 'bnorm': True,  'leaky': True,  'layer_idx': 104},\n",
        "                               {'filter': 255, 'kernel': 1, 'stride': 1, 'bnorm': False, 'leaky': False, 'layer_idx': 105}], skip=False)\n",
        "\n",
        "    model = Model(input_image, [yolo_82, yolo_94, yolo_106])    \n",
        "    return model\n",
        "\n",
        "class WeightReader:\n",
        "    def __init__(self, weight_file):\n",
        "        with open(weight_file, 'rb') as w_f:\n",
        "            major,    = struct.unpack('i', w_f.read(4))\n",
        "            minor,    = struct.unpack('i', w_f.read(4))\n",
        "            revision, = struct.unpack('i', w_f.read(4))\n",
        "\n",
        "            if (major*10 + minor) >= 2 and major < 1000 and minor < 1000:\n",
        "                w_f.read(8)\n",
        "            else:\n",
        "                w_f.read(4)\n",
        "\n",
        "            transpose = (major > 1000) or (minor > 1000)\n",
        "            \n",
        "            binary = w_f.read()\n",
        "\n",
        "        self.offset = 0\n",
        "        self.all_weights = np.frombuffer(binary, dtype='float32')\n",
        "        \n",
        "    def read_bytes(self, size):\n",
        "        self.offset = self.offset + size\n",
        "        return self.all_weights[self.offset-size:self.offset]\n",
        "\n",
        "    def load_weights(self, model):\n",
        "        for i in range(106):\n",
        "            try:\n",
        "                conv_layer = model.get_layer('conv_' + str(i))\n",
        "                print(\"loading weights of convolution #\" + str(i))\n",
        "\n",
        "                if i not in [81, 93, 105]:\n",
        "                    norm_layer = model.get_layer('bnorm_' + str(i))\n",
        "\n",
        "                    size = np.prod(norm_layer.get_weights()[0].shape)\n",
        "\n",
        "                    beta  = self.read_bytes(size) # bias\n",
        "                    gamma = self.read_bytes(size) # scale\n",
        "                    mean  = self.read_bytes(size) # mean\n",
        "                    var   = self.read_bytes(size) # variance            \n",
        "\n",
        "                    weights = norm_layer.set_weights([gamma, beta, mean, var])  \n",
        "\n",
        "                if len(conv_layer.get_weights()) > 1:\n",
        "                    bias   = self.read_bytes(np.prod(conv_layer.get_weights()[1].shape))\n",
        "                    kernel = self.read_bytes(np.prod(conv_layer.get_weights()[0].shape))\n",
        "                    \n",
        "                    kernel = kernel.reshape(list(reversed(conv_layer.get_weights()[0].shape)))\n",
        "                    kernel = kernel.transpose([2,3,1,0])\n",
        "                    conv_layer.set_weights([kernel, bias])\n",
        "                else:\n",
        "                    kernel = self.read_bytes(np.prod(conv_layer.get_weights()[0].shape))\n",
        "                    kernel = kernel.reshape(list(reversed(conv_layer.get_weights()[0].shape)))\n",
        "                    kernel = kernel.transpose([2,3,1,0])\n",
        "                    conv_layer.set_weights([kernel])\n",
        "            except ValueError:\n",
        "                print(\"no convolution #\" + str(i))     \n",
        "    \n",
        "    def reset(self):\n",
        "        self.offset = 0\n",
        "\n",
        "class BoundBox:\n",
        "    def __init__(self, xmin, ymin, xmax, ymax, objness = None, classes = None):\n",
        "        self.xmin = xmin\n",
        "        self.ymin = ymin\n",
        "        self.xmax = xmax\n",
        "        self.ymax = ymax\n",
        "        \n",
        "        self.objness = objness\n",
        "        self.classes = classes\n",
        "\n",
        "        self.label = -1\n",
        "        self.score = -1\n",
        "\n",
        "    def get_label(self):\n",
        "        if self.label == -1:\n",
        "            self.label = np.argmax(self.classes)\n",
        "        \n",
        "        return self.label\n",
        "    \n",
        "    def get_score(self):\n",
        "        if self.score == -1:\n",
        "            self.score = self.classes[self.get_label()]\n",
        "            \n",
        "        return self.score\n",
        "\n",
        "def _sigmoid(x):\n",
        "    return 1. / (1. + np.exp(-x))\n",
        "\n",
        "def decode_netout(netout, anchors, obj_thresh, nms_thresh, net_h, net_w):\n",
        "    grid_h, grid_w = netout.shape[:2]\n",
        "    nb_box = 3\n",
        "    netout = netout.reshape((grid_h, grid_w, nb_box, -1))\n",
        "    nb_class = netout.shape[-1] - 5\n",
        "\n",
        "    boxes = []\n",
        "\n",
        "    netout[..., :2]  = _sigmoid(netout[..., :2])\n",
        "    netout[..., 4:]  = _sigmoid(netout[..., 4:])\n",
        "    netout[..., 5:]  = netout[..., 4][..., np.newaxis] * netout[..., 5:]\n",
        "    netout[..., 5:] *= netout[..., 5:] > obj_thresh\n",
        "\n",
        "    for i in range(grid_h*grid_w):\n",
        "        row = i / grid_w\n",
        "        col = i % grid_w\n",
        "        \n",
        "        for b in range(nb_box):\n",
        "            # 4th element is objectness score\n",
        "            objectness = netout[int(row)][int(col)][b][4]\n",
        "            #objectness = netout[..., :4]\n",
        "            \n",
        "            if(objectness.all() <= obj_thresh): continue\n",
        "            \n",
        "            # first 4 elements are x, y, w, and h\n",
        "            x, y, w, h = netout[int(row)][int(col)][b][:4]\n",
        "\n",
        "            x = (col + x) / grid_w # center position, unit: image width\n",
        "            y = (row + y) / grid_h # center position, unit: image height\n",
        "            w = anchors[2 * b + 0] * np.exp(w) / net_w # unit: image width\n",
        "            h = anchors[2 * b + 1] * np.exp(h) / net_h # unit: image height  \n",
        "            \n",
        "            # last elements are class probabilities\n",
        "            classes = netout[int(row)][col][b][5:]\n",
        "            \n",
        "            box = BoundBox(x-w/2, y-h/2, x+w/2, y+h/2, objectness, classes)\n",
        "            #box = BoundBox(x-w/2, y-h/2, x+w/2, y+h/2, None, classes)\n",
        "\n",
        "            boxes.append(box)\n",
        "\n",
        "    return boxes\n",
        "\n",
        "def correct_yolo_boxes(boxes, image_h, image_w, net_h, net_w):\n",
        "    if (float(net_w)/image_w) < (float(net_h)/image_h):\n",
        "        new_w = net_w\n",
        "        new_h = (image_h*net_w)/image_w\n",
        "    else:\n",
        "        new_h = net_w\n",
        "        new_w = (image_w*net_h)/image_h\n",
        "        \n",
        "    for i in range(len(boxes)):\n",
        "        x_offset, x_scale = (net_w - new_w)/2./net_w, float(new_w)/net_w\n",
        "        y_offset, y_scale = (net_h - new_h)/2./net_h, float(new_h)/net_h\n",
        "        \n",
        "        boxes[i].xmin = int((boxes[i].xmin - x_offset) / x_scale * image_w)\n",
        "        boxes[i].xmax = int((boxes[i].xmax - x_offset) / x_scale * image_w)\n",
        "        boxes[i].ymin = int((boxes[i].ymin - y_offset) / y_scale * image_h)\n",
        "        boxes[i].ymax = int((boxes[i].ymax - y_offset) / y_scale * image_h)\n",
        "\n",
        "\n",
        "def _interval_overlap(interval_a, interval_b):\n",
        "    x1, x2 = interval_a\n",
        "    x3, x4 = interval_b\n",
        "\n",
        "    if x3 < x1:\n",
        "        if x4 < x1:\n",
        "            return 0\n",
        "        else:\n",
        "            return min(x2,x4) - x1\n",
        "    else:\n",
        "        if x2 < x3:\n",
        "             return 0\n",
        "        else:\n",
        "            return min(x2,x4) - x3\n",
        "\n",
        "def bbox_iou(box1, box2):\n",
        "    intersect_w = _interval_overlap([box1.xmin, box1.xmax], [box2.xmin, box2.xmax])\n",
        "    intersect_h = _interval_overlap([box1.ymin, box1.ymax], [box2.ymin, box2.ymax])\n",
        "    \n",
        "    intersect = intersect_w * intersect_h\n",
        "\n",
        "    w1, h1 = box1.xmax-box1.xmin, box1.ymax-box1.ymin\n",
        "    w2, h2 = box2.xmax-box2.xmin, box2.ymax-box2.ymin\n",
        "    \n",
        "    union = w1*h1 + w2*h2 - intersect\n",
        "    \n",
        "    return float(intersect) / union\n",
        "\n",
        "def do_nms(boxes, nms_thresh):\n",
        "    if len(boxes) > 0:\n",
        "        nb_class = len(boxes[0].classes)\n",
        "    else:\n",
        "        return\n",
        "        \n",
        "    for c in range(nb_class):\n",
        "        sorted_indices = np.argsort([-box.classes[c] for box in boxes])\n",
        "\n",
        "        for i in range(len(sorted_indices)):\n",
        "            index_i = sorted_indices[i]\n",
        "\n",
        "            if boxes[index_i].classes[c] == 0: continue\n",
        "\n",
        "            for j in range(i+1, len(sorted_indices)):\n",
        "                index_j = sorted_indices[j]\n",
        "\n",
        "                if bbox_iou(boxes[index_i], boxes[index_j]) >= nms_thresh:\n",
        "                    boxes[index_j].classes[c] = 0 \n",
        "\n",
        "\n",
        "# get all of the results above a threshold\n",
        "def get_boxes(boxes, labels, thresh):\n",
        "\tv_boxes, v_labels, v_scores = list(), list(), list()\n",
        "\t# enumerate all boxes\n",
        "\tfor box in boxes:\n",
        "\t\t# enumerate all possible labels\n",
        "\t\tfor i in range(len(labels)):\n",
        "\t\t\t# check if the threshold for this label is high enough\n",
        "\t\t\tif box.classes[i] > thresh:\n",
        "\t\t\t\tv_boxes.append(box)\n",
        "\t\t\t\tv_labels.append(labels[i])\n",
        "\t\t\t\tv_scores.append(box.classes[i]*100)\n",
        "\t\t\t\t# don't break, many labels may trigger for one box\n",
        "\treturn v_boxes, v_labels, v_scores\n",
        "\n",
        "\n",
        "# draw all results\n",
        "def draw_boxes(filename, v_boxes, v_labels, v_scores):\n",
        "\t# load the image\n",
        "\tdata = pyplot.imread(filename)\n",
        "\t# plot the image\n",
        "\tpyplot.imshow(data)\n",
        "\t# get the context for drawing boxes\n",
        "\tax = pyplot.gca()\n",
        "\t# plot each box\n",
        "\tfor i in range(len(v_boxes)):\n",
        "\t\tbox = v_boxes[i]\n",
        "\t\t# get coordinates\n",
        "\t\ty1, x1, y2, x2 = box.ymin, box.xmin, box.ymax, box.xmax\n",
        "\t\t# calculate width and height of the box\n",
        "\t\twidth, height = x2 - x1, y2 - y1\n",
        "\t\t# create the shape\n",
        "\t\trect = Rectangle((x1, y1), width, height, fill=False, color='white')\n",
        "\t\t# draw the box\n",
        "\t\tax.add_patch(rect)\n",
        "\t\t# draw text and score in top left corner\n",
        "\t\tlabel = \"%s (%.3f)\" % (v_labels[i], v_scores[i])\n",
        "\t\tpyplot.text(x1, y1, label, color='white')\n",
        "\t# show the plot\n",
        "\tpyplot.show()\n",
        "\n",
        "\n"
      ],
      "metadata": {
        "id": "4kxiw46_b3Nf"
      },
      "execution_count": 63,
      "outputs": []
    },
    {
      "cell_type": "code",
      "source": [
        "# define the model\n",
        "model = make_yolov3_model()\n",
        "\n",
        "# load the model weights\n",
        "weight_reader = WeightReader('/content/yolov3.weights')\n",
        "weight_reader.load_weights(model)"
      ],
      "metadata": {
        "id": "uKVFA1GsdVN2",
        "colab": {
          "base_uri": "https://localhost:8080/"
        },
        "outputId": "0d069494-9326-40aa-df48-e2fb6babc250"
      },
      "execution_count": 65,
      "outputs": [
        {
          "output_type": "stream",
          "name": "stdout",
          "text": [
            "loading weights of convolution #0\n",
            "loading weights of convolution #1\n",
            "loading weights of convolution #2\n",
            "loading weights of convolution #3\n",
            "no convolution #4\n",
            "loading weights of convolution #5\n",
            "loading weights of convolution #6\n",
            "loading weights of convolution #7\n",
            "no convolution #8\n",
            "loading weights of convolution #9\n",
            "loading weights of convolution #10\n",
            "no convolution #11\n",
            "loading weights of convolution #12\n",
            "loading weights of convolution #13\n",
            "loading weights of convolution #14\n",
            "no convolution #15\n",
            "loading weights of convolution #16\n",
            "loading weights of convolution #17\n",
            "no convolution #18\n",
            "loading weights of convolution #19\n",
            "loading weights of convolution #20\n",
            "no convolution #21\n",
            "loading weights of convolution #22\n",
            "loading weights of convolution #23\n",
            "no convolution #24\n",
            "loading weights of convolution #25\n",
            "loading weights of convolution #26\n",
            "no convolution #27\n",
            "loading weights of convolution #28\n",
            "loading weights of convolution #29\n",
            "no convolution #30\n",
            "loading weights of convolution #31\n",
            "loading weights of convolution #32\n",
            "no convolution #33\n",
            "loading weights of convolution #34\n",
            "loading weights of convolution #35\n",
            "no convolution #36\n",
            "loading weights of convolution #37\n",
            "loading weights of convolution #38\n",
            "loading weights of convolution #39\n",
            "no convolution #40\n",
            "loading weights of convolution #41\n",
            "loading weights of convolution #42\n",
            "no convolution #43\n",
            "loading weights of convolution #44\n",
            "loading weights of convolution #45\n",
            "no convolution #46\n",
            "loading weights of convolution #47\n",
            "loading weights of convolution #48\n",
            "no convolution #49\n",
            "loading weights of convolution #50\n",
            "loading weights of convolution #51\n",
            "no convolution #52\n",
            "loading weights of convolution #53\n",
            "loading weights of convolution #54\n",
            "no convolution #55\n",
            "loading weights of convolution #56\n",
            "loading weights of convolution #57\n",
            "no convolution #58\n",
            "loading weights of convolution #59\n",
            "loading weights of convolution #60\n",
            "no convolution #61\n",
            "loading weights of convolution #62\n",
            "loading weights of convolution #63\n",
            "loading weights of convolution #64\n",
            "no convolution #65\n",
            "loading weights of convolution #66\n",
            "loading weights of convolution #67\n",
            "no convolution #68\n",
            "loading weights of convolution #69\n",
            "loading weights of convolution #70\n",
            "no convolution #71\n",
            "loading weights of convolution #72\n",
            "loading weights of convolution #73\n",
            "no convolution #74\n",
            "loading weights of convolution #75\n",
            "loading weights of convolution #76\n",
            "loading weights of convolution #77\n",
            "loading weights of convolution #78\n",
            "loading weights of convolution #79\n",
            "loading weights of convolution #80\n",
            "loading weights of convolution #81\n",
            "no convolution #82\n",
            "no convolution #83\n",
            "loading weights of convolution #84\n",
            "no convolution #85\n",
            "no convolution #86\n",
            "loading weights of convolution #87\n",
            "loading weights of convolution #88\n",
            "loading weights of convolution #89\n",
            "loading weights of convolution #90\n",
            "loading weights of convolution #91\n",
            "loading weights of convolution #92\n",
            "loading weights of convolution #93\n",
            "no convolution #94\n",
            "no convolution #95\n",
            "loading weights of convolution #96\n",
            "no convolution #97\n",
            "no convolution #98\n",
            "loading weights of convolution #99\n",
            "loading weights of convolution #100\n",
            "loading weights of convolution #101\n",
            "loading weights of convolution #102\n",
            "loading weights of convolution #103\n",
            "loading weights of convolution #104\n",
            "loading weights of convolution #105\n"
          ]
        }
      ]
    },
    {
      "cell_type": "code",
      "source": [
        "# define the anchors and labels\n",
        "anchors = [[116,90, 156,198, 373,326], [30,61, 62,45, 59,119], [10,13, 16,30, 33,23]]# define the labels\n",
        "labels = [\"person\", \"bicycle\", \"car\", \"motorbike\", \"aeroplane\", \"bus\", \"train\", \"truck\",\n",
        "    \"boat\", \"traffic light\", \"fire hydrant\", \"stop sign\", \"parking meter\", \"bench\",\n",
        "    \"bird\", \"cat\", \"dog\", \"horse\", \"sheep\", \"cow\", \"elephant\", \"bear\", \"zebra\", \"giraffe\",\n",
        "    \"backpack\", \"umbrella\", \"handbag\", \"tie\", \"suitcase\", \"frisbee\", \"skis\", \"snowboard\",\n",
        "    \"sports ball\", \"kite\", \"baseball bat\", \"baseball glove\", \"skateboard\", \"surfboard\",\n",
        "    \"tennis racket\", \"bottle\", \"wine glass\", \"cup\", \"fork\", \"knife\", \"spoon\", \"bowl\", \"banana\",\n",
        "    \"apple\", \"sandwich\", \"orange\", \"broccoli\", \"carrot\", \"hot dog\", \"pizza\", \"donut\", \"cake\",\n",
        "    \"chair\", \"sofa\", \"pottedplant\", \"bed\", \"diningtable\", \"toilet\", \"tvmonitor\", \"laptop\", \"mouse\",\n",
        "    \"remote\", \"keyboard\", \"cell phone\", \"microwave\", \"oven\", \"toaster\", \"sink\", \"refrigerator\",\n",
        "    \"book\", \"clock\", \"vase\", \"scissors\", \"teddy bear\", \"hair drier\", \"toothbrush\"]\n",
        "# get the details of the detected objects\n",
        "# define the probability threshold for detected objects\n",
        "class_threshold = 0.6"
      ],
      "metadata": {
        "id": "zyqk-0v8f0Mp"
      },
      "execution_count": 66,
      "outputs": []
    },
    {
      "cell_type": "markdown",
      "source": [
        "**ATTENTION**: the next cell infers 578 test images throught the network, thus it may take a long time to execute (last execution 59 min 10 s)"
      ],
      "metadata": {
        "id": "3T8g6Y7ZnSXV"
      }
    },
    {
      "cell_type": "code",
      "source": [
        "prop_regions_yolo = []\n",
        "for i in range(0,578):\n",
        "  # load the image with the required size\n",
        "  image = load_img(every_path[i], target_size=(416, 416))\n",
        "  width, height = image.size\n",
        "  # convert to numpy array\n",
        "  image = img_to_array(image)\n",
        "  # scale pixel values to [0, 1]\n",
        "  image = image.astype('float32')\n",
        "  image /= 255.0\n",
        "  image = expand_dims(image, 0)\n",
        "  # make prediction\n",
        "  yhat = model.predict(image)\n",
        "  boxes = list()\n",
        "  for i in range(len(yhat)):\n",
        "    # decode the output of the network\n",
        "    boxes += decode_netout(yhat[i][0], anchors[i], 0.6, class_threshold, 416, 416)\n",
        "  correct_yolo_boxes(boxes, height, width, 416, 416)\n",
        "  # suppress non-maximal boxes\n",
        "  do_nms(boxes, class_threshold)\n",
        "  # get the details of the detected objects\n",
        "  v_boxes, v_labels, v_scores = get_boxes(boxes, labels, class_threshold)\n",
        "  detected_persons = []\n",
        "  for i in range(len(v_boxes)):\n",
        "    if v_labels[i] == \"person\":\n",
        "      box = v_boxes[i]\n",
        "      y1, x1, y2, x2 = box.ymin, box.xmin, box.ymax, box.xmax\n",
        "      width_box, height_box = x2 - x1, y2 - y1\n",
        "      detected_persons.append([x1,y1,width_box,height_box])\n",
        "  prop_regions_yolo.append(detected_persons)"
      ],
      "metadata": {
        "id": "2dDOQg0RfDFD"
      },
      "execution_count": 67,
      "outputs": []
    },
    {
      "cell_type": "code",
      "source": [
        "iou_thr = 0\n",
        "iou_thresholds = []\n",
        "yolo_results = np.zeros((1000,3))\n",
        "yolo_precision = np.zeros((1000,))\n",
        "yolo_recall = np.zeros((1000,))\n",
        "yolo_f1 = np.zeros((1000,))\n",
        "yolo_missrate = np.zeros((1000,))\n",
        "for h in range(0,1000):\n",
        "  iou_thr += 0.001  \n",
        "  iou_thresholds.append(iou_thr)\n",
        "  tp = 0\n",
        "  fp = 0\n",
        "  fn = 0 \n",
        "  for i in range(0, 578):\n",
        "    res = get_single_image_results(bboxes[i],prop_regions_yolo[i],iou_thr)\n",
        "    tp += res[0]\n",
        "    fp += res[1]\n",
        "    fn += res[2]\n",
        "  yolo_results[h][0] = tp\n",
        "  yolo_results[h][1] = fp\n",
        "  yolo_results[h][2] = fn\n",
        "  prec = tp / (tp + fp)\n",
        "  rec = tp / (tp + fn)\n",
        "  yolo_precision[h] = tp / (tp + fp)\n",
        "  yolo_recall[h] = tp / (tp + fn)\n",
        "  if(prec + rec != 0):\n",
        "    yolo_f1[h] = 2 * (prec * rec)/ (prec + rec)\n",
        "  yolo_missrate[h] = fn / (tp + fn) "
      ],
      "metadata": {
        "id": "xqQaAtBlm8bT"
      },
      "execution_count": 68,
      "outputs": []
    },
    {
      "cell_type": "code",
      "source": [
        "pyplot.plot(iou_thresholds, yolo_precision)\n",
        "pyplot.show()\n",
        "\n",
        "pyplot.plot(iou_thresholds, yolo_recall)\n",
        "pyplot.show()\n",
        "\n",
        "pyplot.plot(iou_thresholds, yolo_missrate)\n",
        "pyplot.show()\n",
        "\n",
        "from scipy.io import savemat\n",
        "\n",
        "mdic = {\"yolo_threshold\": iou_thresholds}\n",
        "savemat(\"/content/yolo_results/iou_thresholds.mat\", mdic)\n",
        "\n",
        "mdic = {\"yolo_precision\": yolo_precision}\n",
        "savemat(\"/content/yolo_results/yolo_precision.mat\", mdic)\n",
        "\n",
        "mdic = {\"yolo_recall\": yolo_recall}\n",
        "savemat(\"/content/yolo_results/yolo_recall.mat\", mdic)\n",
        "\n",
        "mdic = {\"yolo_missrate\": yolo_missrate}\n",
        "savemat(\"/content/yolo_results/yolo_missrate.mat\", mdic)\n",
        "\n",
        "mdic = {\"yolo_f1\": yolo_f1}\n",
        "savemat(\"/content/yolo_results/yolo_f1.mat\", mdic)"
      ],
      "metadata": {
        "colab": {
          "base_uri": "https://localhost:8080/",
          "height": 761
        },
        "id": "XMbNAi3-w_N9",
        "outputId": "1b9dabe1-df4f-49c0-88ac-cb7cf750c1e1"
      },
      "execution_count": 69,
      "outputs": [
        {
          "output_type": "display_data",
          "data": {
            "text/plain": [
              "<Figure size 432x288 with 1 Axes>"
            ],
            "image/png": "[encoded data removed]"
          },
          "metadata": {
            "needs_background": "light"
          }
        },
        {
          "output_type": "display_data",
          "data": {
            "text/plain": [
              "<Figure size 432x288 with 1 Axes>"
            ],
            "image/png": "[encoded data removed]"
          },
          "metadata": {
            "needs_background": "light"
          }
        },
        {
          "output_type": "display_data",
          "data": {
            "text/plain": [
              "<Figure size 432x288 with 1 Axes>"
            ],
            "image/png": "[encoded data removed]"
          },
          "metadata": {
            "needs_background": "light"
          }
        }
      ]
    }
  ]
}