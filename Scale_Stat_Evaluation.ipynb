{
  "nbformat": 4,
  "nbformat_minor": 0,
  "metadata": {
    "colab": {
      "name": "Scale_Stat_Evaluation.ipynb",
      "provenance": [],
      "collapsed_sections": [],
      "authorship_tag": "ABX9TyNqHHjSDA6SCnveTBMOPA9M",
      "include_colab_link": true
    },
    "kernelspec": {
      "name": "python3",
      "display_name": "Python 3"
    },
    "language_info": {
      "name": "python"
    }
  },
  "cells": [
    {
      "cell_type": "markdown",
      "metadata": {
        "id": "view-in-github",
        "colab_type": "text"
      },
      "source": [
        "<a href=\"https://colab.research.google.com/github/frapasti/Embedded-Person-detection/blob/main/Scale_Stat_Evaluation.ipynb\" target=\"_parent\"><img src=\"https://colab.research.google.com/assets/colab-badge.svg\" alt=\"Open In Colab\"/></a>"
      ]
    },
    {
      "cell_type": "markdown",
      "source": [
        "# STATISTICS OVER DIVVERENT SCALES\n",
        "This notebook aims to evaluate the performances of some off the shelf person detectors with metrics such as precision, recall, miss rate and f1 score over different input scales.\n",
        "\n",
        "First of all, install the needed libraries"
      ],
      "metadata": {
        "id": "sE6gNFwDXgjl"
      }
    },
    {
      "cell_type": "code",
      "source": [
        "!pip install fiftyone --no-binary fiftyone,voxel51-eta\n",
        "import fiftyone as fo\n",
        "import fiftyone.zoo as foz\n",
        "import numpy as np\n",
        "from numpy import expand_dims\n",
        "from keras.models import load_model\n",
        "from keras.preprocessing.image import load_img\n",
        "from keras.preprocessing.image import img_to_array\n",
        "from matplotlib import pyplot\n",
        "from matplotlib.patches import Rectangle\n",
        "import json\n",
        "import cv2\n",
        "import imutils\n",
        "from google.colab.patches import cv2_imshow\n",
        "from keras.preprocessing.image import load_img\n",
        "import fiftyone.zoo as foz\n",
        "from fiftyone import ViewField as F\n",
        "import os\n",
        "\n",
        "def listdir_fullpath(d):\n",
        "    return [os.path.join(d, f) for f in os.listdir(d)]"
      ],
      "metadata": {
        "id": "R1WbsfosYZwh"
      },
      "execution_count": null,
      "outputs": []
    },
    {
      "cell_type": "markdown",
      "source": [
        "# Dataset downloads\n",
        "In order to evaluate over different scales the input images must start from the same size.\n",
        "The chosen size is 640x480.\n",
        "The dataset is downloaded with the fiftyone tool for coco-2017"
      ],
      "metadata": {
        "id": "ji-mtSy9X__v"
      }
    },
    {
      "cell_type": "code",
      "source": [
        "#DATASET containing persons\n",
        "dataset = foz.load_zoo_dataset(\n",
        "    \"coco-2017\",\n",
        "    split=\"validation\",\n",
        "    label_types=[\"detections\"],\n",
        "    classes=[\"person\"],\n",
        "    only_matching = True,\n",
        "    max_samples=1000,\n",
        ")"
      ],
      "metadata": {
        "id": "omtbyj3faTDu",
        "colab": {
          "base_uri": "https://localhost:8080/"
        },
        "outputId": "6c363f3e-dadb-4cbf-8f90-f31ede67495a"
      },
      "execution_count": 3,
      "outputs": [
        {
          "output_type": "stream",
          "name": "stdout",
          "text": [
            "Downloading split 'validation' to '/root/fiftyone/coco-2017/validation' if necessary\n",
            "Downloading annotations to '/root/fiftyone/coco-2017/tmp-download/annotations_trainval2017.zip'\n",
            " 100% |██████|    1.9Gb/1.9Gb [2.8s elapsed, 0s remaining, 695.0Mb/s]       \n",
            "Extracting annotations to '/root/fiftyone/coco-2017/raw/instances_val2017.json'\n",
            "Downloading 1000 images\n",
            " 100% |████████████████| 1000/1000 [1.5m elapsed, 0s remaining, 11.5 images/s]      \n",
            "Writing annotations for 1000 downloaded samples to '/root/fiftyone/coco-2017/validation/labels.json'\n",
            "Dataset info written to '/root/fiftyone/coco-2017/info.json'\n",
            "Loading 'coco-2017' split 'validation'\n",
            " 100% |███████████████| 1000/1000 [5.0s elapsed, 0s remaining, 206.4 samples/s]      \n",
            "Dataset 'coco-2017-validation-1000' created\n"
          ]
        }
      ]
    },
    {
      "cell_type": "code",
      "source": [
        "f = open('/root/fiftyone/coco-2017/validation/labels.json')\n",
        "data = json.load(f)\n",
        "annotations = data['annotations']\n",
        "every_path = []\n",
        "cols = 10\n",
        "rows = 1000\n",
        "bbox_size = 4\n",
        "counters = [0] * rows\n",
        "bboxes = [[] for i in range(rows)] \n",
        "items = 0\n",
        "# Creation of the list of paths of images in the dataset and bboxes\n",
        "# This elements are extracted from the json file downloaded from coco with the dataset\n",
        "for entry in data['annotations']:\n",
        "    class_id = entry['category_id']\n",
        "    if (class_id == 1):\n",
        "        img_id = entry['image_id']\n",
        "        path = float(img_id)/pow(10,11)\n",
        "        dec_path = format(path, '.11f')\n",
        "        final_path = ''\n",
        "        final_path = '/root/fiftyone/coco-2017/validation/data/'+ dec_path.replace('.', '') + '.jpg'\n",
        "        if(every_path.count(final_path) == 0):\n",
        "          every_path.append(final_path)\n",
        "          bboxes[items].append(entry['bbox'])\n",
        "          items = items + 1\n",
        "        else:\n",
        "          index = every_path.index(final_path)\n",
        "          if(counters[index] + 1 < 10):\n",
        "            bboxes[index].append(entry['bbox'])\n",
        "            counters[index] = counters[index] + 1\n",
        "\n",
        "# Matain only images of size 640x480\n",
        "f_every_path = []\n",
        "f_bboxes = []\n",
        "for i in range(0, len(every_path)):\n",
        "  original_img = load_img(every_path[i])\n",
        "  width, height = original_img.size\n",
        "  if(width == 640 and height == 480):\n",
        "    f_every_path.append(every_path[i])\n",
        "    f_bboxes.append(bboxes[i])\n",
        "\n",
        "assert(len(bboxes)==len(every_path))"
      ],
      "metadata": {
        "id": "9TA_AVg2aLzL"
      },
      "execution_count": 5,
      "outputs": []
    },
    {
      "cell_type": "code",
      "source": [
        "#DATASET of non persons\n",
        "dataset1 = foz.load_zoo_dataset(\n",
        "    \"coco-2017\",\n",
        "    split=\"train\",\n",
        "    label_types=[\"detections\"],\n",
        "    only_matching = True,\n",
        "    max_samples=500,\n",
        ")\n",
        "\n",
        "class_name = \"Person\"\n",
        "\n",
        "# Find samples that have a \"Person\"\n",
        "pos_view = dataset1.filter_labels(\"ground_truth\", F(\"label\")==class_name)\n",
        "\n",
        "# Find all samples without a positively labeled \"Person\"\n",
        "neg_view = dataset1.exclude(pos_view)\n",
        "\n",
        "# Tag any samples that have a person in the App with \"remove\"\n",
        "session = fo.launch_app(view=neg_view)"
      ],
      "metadata": {
        "id": "cXJNaPvYNqsQ",
        "colab": {
          "base_uri": "https://localhost:8080/",
          "height": 998
        },
        "outputId": "36d21ebf-eb1c-41a6-9315-470ebd8aa18a"
      },
      "execution_count": 6,
      "outputs": [
        {
          "output_type": "stream",
          "name": "stdout",
          "text": [
            "Downloading split 'train' to '/root/fiftyone/coco-2017/train' if necessary\n",
            "Found annotations at '/root/fiftyone/coco-2017/raw/instances_train2017.json'\n",
            "Downloading 500 images\n",
            " 100% |██████████████████| 500/500 [42.4s elapsed, 0s remaining, 10.8 images/s]      \n",
            "Writing annotations for 500 downloaded samples to '/root/fiftyone/coco-2017/train/labels.json'\n",
            "Dataset info written to '/root/fiftyone/coco-2017/info.json'\n",
            "Loading 'coco-2017' split 'train'\n",
            " 100% |█████████████████| 500/500 [3.5s elapsed, 0s remaining, 146.2 samples/s]      \n",
            "Dataset 'coco-2017-train-500' created\n"
          ]
        },
        {
          "output_type": "display_data",
          "data": {
            "text/plain": [
              "<IPython.core.display.HTML object>"
            ],
            "text/html": [
              "\n",
              "<style>\n",
              "\n",
              "@import url(\"https://fonts.googleapis.com/css2?family=Palanquin&display=swap\");\n",
              "\n",
              "#focontainer-d1ec346d-ecf2-4949-aed3-7d319c5fc244 {\n",
              "  position: relative;\n",
              "  height: px;\n",
              "  display: block !important;\n",
              "}\n",
              "#foactivate-d1ec346d-ecf2-4949-aed3-7d319c5fc244 {\n",
              "  font-weight: bold;\n",
              "  cursor: pointer;\n",
              "  font-size: 24px;\n",
              "  border-radius: 3px;\n",
              "  text-align: center;\n",
              "  padding: 0.5em;\n",
              "  color: rgb(255, 255, 255);\n",
              "  font-family: \"Palanquin\", sans-serif;\n",
              "  position: absolute;\n",
              "  left: 50%;\n",
              "  top: 50%;\n",
              "  width: 160px;\n",
              "  margin-left: -80px;\n",
              "  margin-top: -23px;\n",
              "  background: hsla(210,11%,15%, 0.8);\n",
              "  border: none;\n",
              "}\n",
              "#foactivate-d1ec346d-ecf2-4949-aed3-7d319c5fc244:focus {\n",
              "  outline: none;\n",
              "}\n",
              "#fooverlay-d1ec346d-ecf2-4949-aed3-7d319c5fc244 {\n",
              "  width: 100%;\n",
              "  height: 100%;\n",
              "  background: hsla(208, 7%, 46%, 0.7);\n",
              "  position: absolute;\n",
              "  top: 0;\n",
              "  left: 0;\n",
              "  display: none;\n",
              "  cursor: pointer;\n",
              "}\n",
              "</style>\n",
              "<div id=\"focontainer-d1ec346d-ecf2-4949-aed3-7d319c5fc244\" style=\"display: none;\">\n",
              "   <div id=\"fooverlay-d1ec346d-ecf2-4949-aed3-7d319c5fc244\">\n",
              "      <button id=\"foactivate-d1ec346d-ecf2-4949-aed3-7d319c5fc244\" >Activate</button>\n",
              "   </div>\n",
              "</div>"
            ]
          },
          "metadata": {}
        }
      ]
    },
    {
      "cell_type": "code",
      "source": [
        "# Find and remove all tagged samples from the DatasetView\n",
        "neg_view = neg_view.match_tags(\"remove\", bool=False)\n",
        "\n",
        "neg_view.export(\n",
        "    export_dir=\"/content/nonPerson1\",\n",
        "    dataset_type=fo.types.COCODetectionDataset,\n",
        ")\n",
        "\n",
        "# Mantain only images of size 640x480\n",
        "non_persons = listdir_fullpath(\"/content/nonPerson1/data\")\n",
        "for i in range(0, len(non_persons)):\n",
        "  original_img = load_img(non_persons[i])\n",
        "  width, height = original_img.size\n",
        "  if(width == 640 and height == 480):\n",
        "    f_every_path.append(non_persons[i])\n",
        "    f_bboxes.append([])\n",
        "\n",
        "print(\"The notebook is valuating performances over \" + len(f_every_path) + \" images of size 640x480 containing zero or more persons\")"
      ],
      "metadata": {
        "colab": {
          "base_uri": "https://localhost:8080/"
        },
        "id": "O2cc9SBWcvTr",
        "outputId": "0f1ef483-35ba-436d-9ab6-8c0e161103d5"
      },
      "execution_count": 7,
      "outputs": [
        {
          "output_type": "stream",
          "name": "stdout",
          "text": [
            " 100% |█████████████████| 243/243 [1.2s elapsed, 0s remaining, 209.6 samples/s]         \n"
          ]
        }
      ]
    },
    {
      "cell_type": "markdown",
      "source": [
        "# Helper functions"
      ],
      "metadata": {
        "id": "JEwXRNpDZ7E1"
      }
    },
    {
      "cell_type": "code",
      "source": [
        "def calc_iou( gt_bbox, pred_bbox):\n",
        "    '''\n",
        "    This function takes the predicted bounding box and ground truth bounding box and \n",
        "    return the IoU ratio\n",
        "    '''\n",
        "    x_topleft_gt, y_topleft_gt, x_bottomright_gt, y_bottomright_gt= gt_bbox[0] , gt_bbox[1], gt_bbox[0] + gt_bbox[2] , gt_bbox[1] + gt_bbox[3]\n",
        "    x_topleft_p, y_topleft_p, x_bottomright_p, y_bottomright_p= pred_bbox[0] , pred_bbox[1], pred_bbox[0] + pred_bbox[2] , pred_bbox[1] + pred_bbox[3]\n",
        "    \n",
        "    if (x_topleft_gt > x_bottomright_gt) or (y_topleft_gt> y_bottomright_gt):\n",
        "        raise AssertionError(\"Ground Truth Bounding Box is not correct\")\n",
        "    if (x_topleft_p > x_bottomright_p) or (y_topleft_p> y_bottomright_p):\n",
        "        raise AssertionError(\"Predicted Bounding Box is not correct\",x_topleft_p, x_bottomright_p,y_topleft_p,y_bottomright_gt)\n",
        "        \n",
        "         \n",
        "    #if the GT bbox and predcited BBox do not overlap then iou=0\n",
        "    if(x_bottomright_gt< x_topleft_p):\n",
        "        # If bottom right of x-coordinate  GT  bbox is less than or above the top left of x coordinate of  the predicted BBox\n",
        "        \n",
        "        return 0.0\n",
        "    if(y_bottomright_gt< y_topleft_p):  # If bottom right of y-coordinate  GT  bbox is less than or above the top left of y coordinate of  the predicted BBox\n",
        "        \n",
        "        return 0.0\n",
        "    if(x_topleft_gt> x_bottomright_p): # If bottom right of x-coordinate  GT  bbox is greater than or below the bottom right  of x coordinate of  the predcited BBox\n",
        "        \n",
        "        return 0.0\n",
        "    if(y_topleft_gt> y_bottomright_p): # If bottom right of y-coordinate  GT  bbox is greater than or below the bottom right  of y coordinate of  the predcited BBox\n",
        "        \n",
        "        return 0.0\n",
        "    \n",
        "    \n",
        "    GT_bbox_area = (x_bottomright_gt -  x_topleft_gt + 1) * (  y_bottomright_gt -y_topleft_gt + 1)\n",
        "    Pred_bbox_area =(x_bottomright_p - x_topleft_p + 1 ) * ( y_bottomright_p -y_topleft_p + 1)\n",
        "    \n",
        "    x_top_left =np.max([x_topleft_gt, x_topleft_p])\n",
        "    y_top_left = np.max([y_topleft_gt, y_topleft_p])\n",
        "    x_bottom_right = np.min([x_bottomright_gt, x_bottomright_p])\n",
        "    y_bottom_right = np.min([y_bottomright_gt, y_bottomright_p])\n",
        "    \n",
        "    intersection_area = (x_bottom_right- x_top_left + 1) * (y_bottom_right-y_top_left  + 1)\n",
        "    \n",
        "    union_area = (GT_bbox_area + Pred_bbox_area - intersection_area)\n",
        "   \n",
        "    return intersection_area/union_area"
      ],
      "metadata": {
        "id": "vIGGFtA9W2Wa"
      },
      "execution_count": 9,
      "outputs": []
    },
    {
      "cell_type": "code",
      "source": [
        "def get_single_image_results(gt_boxes, pred_boxes, iou_thr):\n",
        "    \"\"\"Calculates number of true_pos, false_pos, false_neg from single batch of boxes.\n",
        "    Args:\n",
        "        gt_boxes (list of list of floats): list of locations of ground truth\n",
        "            objects as [xlest, yleft, width, height]\n",
        "        pred_boxes (dict): dict of dicts of 'boxes' (formatted like `gt_boxes`)\n",
        "            and 'scores'\n",
        "        iou_thr (float): value of IoU to consider as threshold for a\n",
        "            true prediction.\n",
        "    Returns:\n",
        "        dict: true positives (int), false positives (int), false negatives (int)\n",
        "    \"\"\"\n",
        "    \n",
        "    if len(gt_boxes)==0:\n",
        "        tp=0\n",
        "        fp=len(pred_boxes)\n",
        "        fn=0\n",
        "        return [tp, fp, fn]\n",
        "    \n",
        "    if len(pred_boxes)==0 & len(gt_boxes) != 0:\n",
        "        tp=0\n",
        "        fp=0\n",
        "        fn=len(gt_boxes)\n",
        "        return [tp, fp, fn]\n",
        "\n",
        "    if len(pred_boxes)==0 & len(gt_boxes) == 0:\n",
        "        tp=0\n",
        "        fp=0\n",
        "        fn=len(gt_boxes)\n",
        "        return [tp, fp, fn]\n",
        "    \n",
        "    tp = 0\n",
        "    for i in range(0, len(gt_boxes)):\n",
        "      for h in range(0, len(pred_boxes)):\n",
        "        if(calc_iou(gt_boxes[i],pred_boxes[h]) >= iou_thr):\n",
        "          if(tp < len(pred_boxes)):\n",
        "            tp += 1\n",
        "            break\n",
        "    fp = len(pred_boxes) - tp\n",
        "    fn = len(gt_boxes) - tp\n",
        "\n",
        "    return [tp, fp, fn]"
      ],
      "metadata": {
        "id": "l66-U-9VaGZO"
      },
      "execution_count": 10,
      "outputs": []
    },
    {
      "cell_type": "markdown",
      "source": [
        "# HOG EVALUATION\n",
        "\n",
        "Get some statistics like precision,recall... by scaling down the original scale of the image to 1.0,0.9,0.8...\n",
        "Compare the results with the ground truth bounding boxes that have also been scaled down by the same scale factor"
      ],
      "metadata": {
        "id": "cC7P_DmSaRz2"
      }
    },
    {
      "cell_type": "code",
      "source": [
        "def hog_detector(im_path, scale): \n",
        "  # Initializing the HOG person\n",
        "  # detector\n",
        "  hog = cv2.HOGDescriptor()\n",
        "  hog.setSVMDetector(cv2.HOGDescriptor_getDefaultPeopleDetector())\n",
        "    \n",
        "  # Reading the Image\n",
        "  image = cv2.imread(im_path)\n",
        "  cv2.resize(image,(int(640*scale),int(480*scale)))\n",
        "    \n",
        "  # Detecting all the regions in the \n",
        "  # Image that has a pedestrians inside it\n",
        "  (regions, _) = hog.detectMultiScale(image, \n",
        "                                      winStride=(4, 4),\n",
        "                                      padding=(4, 4),\n",
        "                                      scale=1.05)\n",
        "\n",
        "  return regions"
      ],
      "metadata": {
        "id": "7yySRW7uaWx_"
      },
      "execution_count": 26,
      "outputs": []
    },
    {
      "cell_type": "markdown",
      "source": [
        "**N.B.** The next cell infers a huge number of images len(every_path)*10 so it may take a long time to fully process the data. Last execution took 29 min!"
      ],
      "metadata": {
        "id": "Zph0C5oiqQML"
      }
    },
    {
      "cell_type": "code",
      "source": [
        "scale = 1.0\n",
        "regions = []  #proposed regions\n",
        "scaled_bboxes = [] #scaled down version of ground truth boxes\n",
        "for i in range(0,10):\n",
        "  temp_regions = []\n",
        "  temp_boxes = []\n",
        "  for h in range(0,len(f_every_path)): #for every image\n",
        "    prop_regions = hog_detector(f_every_path[h], scale) #get proposed_regions at current scale\n",
        "    temp_regions.append(prop_regions)\n",
        "    temp_boxes_in = []\n",
        "    for x,y,w,h in f_bboxes[h]:\n",
        "      temp_boxes_in.append([x * scale, y * scale, w * scale, h * scale])\n",
        "    temp_boxes.append(temp_boxes_in)\n",
        "  regions.append(temp_regions)\n",
        "  scaled_bboxes.append(temp_boxes)\n",
        "  scale = scale - 0.1"
      ],
      "metadata": {
        "id": "3FLvdO2CbELn"
      },
      "execution_count": 73,
      "outputs": []
    },
    {
      "cell_type": "code",
      "source": [
        "hog_results = np.zeros((10,3))\n",
        "HOG_precision = np.zeros((10,))\n",
        "HOG_recall = np.zeros((10,))\n",
        "HOG_f1 = np.zeros((10,))\n",
        "HOG_missrate = np.zeros((10,))\n",
        "scales = []\n",
        "scale = 1.0\n",
        "for h in range(0,10):\n",
        "  scales.append(scale)\n",
        "  tp = 0\n",
        "  fp = 0\n",
        "  fn = 0 \n",
        "  for i in range(0, 268):\n",
        "    res = get_single_image_results(scaled_bboxes[h][i],regions[h][i],0.1)\n",
        "    tp += res[0]\n",
        "    fp += res[1]\n",
        "    fn += res[2]\n",
        "    hog_results[h][0] = tp\n",
        "    hog_results[h][1] = fp\n",
        "    hog_results[h][2] = fn\n",
        "    prec = tp / (tp + fp)\n",
        "    rec = tp / (tp + fn)\n",
        "    HOG_precision[h] = tp / (tp + fp)\n",
        "    HOG_recall[h] = tp / (tp + fn)\n",
        "    if(prec + rec != 0):\n",
        "      HOG_f1[h] = 2 * (prec * rec)/ (prec + rec)\n",
        "    HOG_missrate[h] = fn / (tp + fn) \n",
        "  scale = scale - 0.1"
      ],
      "metadata": {
        "id": "h-HQRnkykJFS"
      },
      "execution_count": 74,
      "outputs": []
    },
    {
      "cell_type": "code",
      "source": [
        "pyplot.plot(scales, HOG_precision)\n",
        "pyplot.show()\n",
        "\n",
        "pyplot.plot(scales, HOG_recall)\n",
        "pyplot.show()\n",
        "\n",
        "pyplot.plot(scales, HOG_missrate)\n",
        "pyplot.show()\n",
        "\n",
        "from scipy.io import savemat\n",
        "\n",
        "mdic = {\"scales\": scales}\n",
        "savemat(\"/content/HOG_results/iou_thresholds.mat\", mdic)\n",
        "\n",
        "mdic = {\"HOG_precision\": HOG_precision}\n",
        "savemat(\"/content/HOG_results/HOG_precision.mat\", mdic)\n",
        "\n",
        "mdic = {\"HOG_recall\": HOG_recall}\n",
        "savemat(\"/content/HOG_results/HOG_recall.mat\", mdic)\n",
        "\n",
        "mdic = {\"HOG_missrate\": HOG_missrate}\n",
        "savemat(\"/content/HOG_results/HOG_missrate.mat\", mdic)\n",
        "\n",
        "mdic = {\"HOG_f1\": HOG_f1}\n",
        "savemat(\"/content/HOG_results/HOG_f1.mat\", mdic)"
      ],
      "metadata": {
        "colab": {
          "base_uri": "https://localhost:8080/",
          "height": 761
        },
        "id": "NghJMIeemz6P",
        "outputId": "ce3ad15c-3189-4c3c-bc00-20546f142d7e"
      },
      "execution_count": 76,
      "outputs": [
        {
          "output_type": "display_data",
          "data": {
            "text/plain": [
              "<Figure size 432x288 with 1 Axes>"
            ],
            "image/png": "[encoded data removed]"
          },
          "metadata": {
            "needs_background": "light"
          }
        },
        {
          "output_type": "display_data",
          "data": {
            "text/plain": [
              "<Figure size 432x288 with 1 Axes>"
            ],
            "image/png": "[encoded data removed]"
          },
          "metadata": {
            "needs_background": "light"
          }
        },
        {
          "output_type": "display_data",
          "data": {
            "text/plain": [
              "<Figure size 432x288 with 1 Axes>"
            ],
            "image/png": "[encoded data removed]"
          },
          "metadata": {
            "needs_background": "light"
          }
        }
      ]
    },
    {
      "cell_type": "markdown",
      "source": [
        "# VIOLA results"
      ],
      "metadata": {
        "id": "TqKrZB2J6-_R"
      }
    },
    {
      "cell_type": "code",
      "source": [
        "def viola_detector(im_path, scale): \n",
        "    \n",
        "  #Reading the Image\n",
        "  image = cv2.imread(im_path)\n",
        "\n",
        "  cv2.resize(image,(int(640*scale),int(480*scale)))\n",
        "  #convert in gray_scale since the cascade classifier works on gray_scale images\n",
        "  grayscale_image = cv2.cvtColor(image, cv2.COLOR_BGR2GRAY)\n",
        "\n",
        "  #load the cascade classifier, detect the bodies in the image and draw them for the user to see\n",
        "  body_cascade = cv2.CascadeClassifier('/content/haarcascade_fullbody.xml')\n",
        "  detected_bodies = body_cascade.detectMultiScale(grayscale_image)\n",
        "      \n",
        "  return detected_bodies"
      ],
      "metadata": {
        "id": "UyPzbZqh69YO"
      },
      "execution_count": 77,
      "outputs": []
    },
    {
      "cell_type": "code",
      "source": [
        "scale = 1.0\n",
        "viola_regions = []  #proposed regions\n",
        "for i in range(0,10):\n",
        "  temp_regions = []\n",
        "  for h in range(0,len(f_every_path)): #for every image\n",
        "    prop_regions = viola_detector(f_every_path[h], scale) #get proposed_regions at current scale\n",
        "    temp_regions.append(prop_regions)\n",
        "  viola_regions.append(temp_regions)\n",
        "  scale = scale - 0.1"
      ],
      "metadata": {
        "id": "vKcFkzUO7mo4"
      },
      "execution_count": 78,
      "outputs": []
    },
    {
      "cell_type": "code",
      "source": [
        "viola_results = np.zeros((10,3))\n",
        "viola_precision = np.zeros((10,))\n",
        "viola_recall = np.zeros((10,))\n",
        "viola_f1 = np.zeros((10,))\n",
        "viola_missrate = np.zeros((10,))\n",
        "for h in range(0,10):\n",
        "  tp = 0\n",
        "  fp = 0\n",
        "  fn = 0 \n",
        "  for i in range(0, 268):\n",
        "    res = get_single_image_results(scaled_bboxes[h][i],viola_regions[h][i],0.1)\n",
        "    tp += res[0]\n",
        "    fp += res[1]\n",
        "    fn += res[2]\n",
        "  viola_results[h][0] = tp\n",
        "  viola_results[h][1] = fp\n",
        "  viola_results[h][2] = fn\n",
        "  prec = tp / (tp + fp)\n",
        "  rec = tp / (tp + fn)\n",
        "  viola_precision[h] = tp / (tp + fp)\n",
        "  viola_recall[h] = tp / (tp + fn)\n",
        "  if(prec + rec != 0):\n",
        "    viola_f1[h] = 2 * (prec * rec)/ (prec + rec)\n",
        "  viola_missrate[h] = fn / (tp + fn) "
      ],
      "metadata": {
        "id": "yifkvHQI75_l"
      },
      "execution_count": 79,
      "outputs": []
    },
    {
      "cell_type": "code",
      "source": [
        "pyplot.plot(scales, viola_precision)\n",
        "pyplot.show()\n",
        "\n",
        "pyplot.plot(scales, viola_recall)\n",
        "pyplot.show()\n",
        "\n",
        "pyplot.plot(scales, viola_missrate)\n",
        "pyplot.show()\n",
        "\n",
        "from scipy.io import savemat\n",
        "\n",
        "mdic = {\"viola_precision\": viola_precision}\n",
        "savemat(\"/content/VIOLA_results/viola_precision.mat\", mdic)\n",
        "\n",
        "mdic = {\"viola_recall\": viola_recall}\n",
        "savemat(\"/content/VIOLA_results/viola_recall.mat\", mdic)\n",
        "\n",
        "mdic = {\"viola_missrate\": viola_missrate}\n",
        "savemat(\"/content/VIOLA_results/viola_missrate.mat\", mdic)\n",
        "\n",
        "mdic = {\"viola_f1\": viola_f1}\n",
        "savemat(\"/content/VIOLA_results/viola_f1.mat\", mdic)"
      ],
      "metadata": {
        "colab": {
          "base_uri": "https://localhost:8080/",
          "height": 761
        },
        "id": "09Nayx3H8tFT",
        "outputId": "4fe46f24-94ae-4516-f586-1e79c195fde2"
      },
      "execution_count": 80,
      "outputs": [
        {
          "output_type": "display_data",
          "data": {
            "text/plain": [
              "<Figure size 432x288 with 1 Axes>"
            ],
            "image/png": "[encoded data removed]"
          },
          "metadata": {
            "needs_background": "light"
          }
        },
        {
          "output_type": "display_data",
          "data": {
            "text/plain": [
              "<Figure size 432x288 with 1 Axes>"
            ],
            "image/png": "[encoded data removed]"
          },
          "metadata": {
            "needs_background": "light"
          }
        },
        {
          "output_type": "display_data",
          "data": {
            "text/plain": [
              "<Figure size 432x288 with 1 Axes>"
            ],
            "image/png": "[encoded data removed]"
          },
          "metadata": {
            "needs_background": "light"
          }
        }
      ]
    },
    {
      "cell_type": "markdown",
      "source": [
        "# IMPROVED VIOLA"
      ],
      "metadata": {
        "id": "cGvXmzzQ9B7u"
      }
    },
    {
      "cell_type": "code",
      "source": [
        "def viola_detector_powered(im_path, scale): \n",
        "    \n",
        "  #Reading the Image\n",
        "  image = cv2.imread(im_path)\n",
        "  \n",
        "  cv2.resize(image,(int(640*scale),int(480*scale)))\n",
        "  #convert in gray_scale since the cascade classifier works on gray_scale images\n",
        "  grayscale_image = cv2.cvtColor(image, cv2.COLOR_BGR2GRAY)\n",
        "\n",
        "  #load the cascade classifier, detect the bodies in the image and draw them for the user to see\n",
        "  body_cascade = cv2.CascadeClassifier('/content/haarcascade_fullbody.xml')\n",
        "  lbody_cascade = cv2.CascadeClassifier('/content/haarcascade_lowerbody.xml') #lower body\n",
        "  ubody_cascade = cv2.CascadeClassifier('/content/haarcascade_upperbody.xml') #upper body\n",
        "  \n",
        "  detected_bodies = body_cascade.detectMultiScale(grayscale_image)\n",
        "  ldetected_bodies = lbody_cascade.detectMultiScale(grayscale_image) #lower_body\n",
        "  udetected_bodies = ubody_cascade.detectMultiScale(grayscale_image) #upper_body\n",
        "  \n",
        "  tot_bodies = list(detected_bodies) + list(ldetected_bodies) + list(udetected_bodies) #concatenate all the detected bboxes\n",
        "\n",
        "  return tot_bodies"
      ],
      "metadata": {
        "id": "8DXXFa_A9FGm"
      },
      "execution_count": 81,
      "outputs": []
    },
    {
      "cell_type": "code",
      "source": [
        "scale = 1.0\n",
        "pow_viola_regions = []  #proposed regions\n",
        "for i in range(0,10):\n",
        "  temp_regions = []\n",
        "  for h in range(0,len(f_every_path)): #for every image\n",
        "    prop_regions = viola_detector_powered(f_every_path[h], scale) #get proposed_regions at current scale\n",
        "    temp_regions.append(prop_regions)\n",
        "  pow_viola_regions.append(temp_regions)\n",
        "  scale = scale - 0.1"
      ],
      "metadata": {
        "id": "1voh5_Xa9X2T"
      },
      "execution_count": 82,
      "outputs": []
    },
    {
      "cell_type": "code",
      "source": [
        "pow_viola_results = np.zeros((10,3))\n",
        "pow_viola_precision = np.zeros((10,))\n",
        "pow_viola_recall = np.zeros((10,))\n",
        "pow_viola_f1 = np.zeros((10,))\n",
        "pow_viola_missrate = np.zeros((10,))\n",
        "for h in range(0,10):\n",
        "  tp = 0\n",
        "  fp = 0\n",
        "  fn = 0 \n",
        "  for i in range(0, 268):\n",
        "    res = get_single_image_results(scaled_bboxes[h][i],pow_viola_regions[h][i],0.1)\n",
        "    tp += res[0]\n",
        "    fp += res[1]\n",
        "    fn += res[2]\n",
        "  pow_viola_results[h][0] = tp\n",
        "  pow_viola_results[h][1] = fp\n",
        "  pow_viola_results[h][2] = fn\n",
        "  prec = tp / (tp + fp)\n",
        "  rec = tp / (tp + fn)\n",
        "  pow_viola_precision[h] = tp / (tp + fp)\n",
        "  pow_viola_recall[h] = tp / (tp + fn)\n",
        "  if(prec + rec != 0):\n",
        "    pow_viola_f1[h] = 2 * (prec * rec)/ (prec + rec)\n",
        "  pow_viola_missrate[h] = fn / (tp + fn)"
      ],
      "metadata": {
        "id": "OlsT27QM-EOV"
      },
      "execution_count": 84,
      "outputs": []
    },
    {
      "cell_type": "code",
      "source": [
        "pyplot.plot(scales, pow_viola_precision)\n",
        "pyplot.show()\n",
        "\n",
        "pyplot.plot(scales, pow_viola_recall)\n",
        "pyplot.show()\n",
        "\n",
        "pyplot.plot(scales, pow_viola_missrate)\n",
        "pyplot.show()\n",
        "\n",
        "from scipy.io import savemat\n",
        "\n",
        "mdic = {\"pow_viola_precision\": pow_viola_precision}\n",
        "savemat(\"/content/pow_VIOLA_results/pow_viola_precision.mat\", mdic)\n",
        "\n",
        "mdic = {\"pow_viola_recall\": pow_viola_recall}\n",
        "savemat(\"/content/pow_VIOLA_results/pow_viola_recall.mat\", mdic)\n",
        "\n",
        "mdic = {\"pow_viola_missrate\": pow_viola_missrate}\n",
        "savemat(\"/content/pow_VIOLA_results/pow_viola_missrate.mat\", mdic)\n",
        "\n",
        "mdic = {\"pow_viola_f1\": pow_viola_f1}\n",
        "savemat(\"/content/pow_VIOLA_results/pow_viola_f1.mat\", mdic)"
      ],
      "metadata": {
        "colab": {
          "base_uri": "https://localhost:8080/",
          "height": 761
        },
        "id": "ix3q6ZxI-hTw",
        "outputId": "bd5b8c6f-184b-4acf-c908-ced60bb8bf8e"
      },
      "execution_count": 85,
      "outputs": [
        {
          "output_type": "display_data",
          "data": {
            "text/plain": [
              "<Figure size 432x288 with 1 Axes>"
            ],
            "image/png": "[encoded data removed]"
          },
          "metadata": {
            "needs_background": "light"
          }
        },
        {
          "output_type": "display_data",
          "data": {
            "text/plain": [
              "<Figure size 432x288 with 1 Axes>"
            ],
            "image/png": "[encoded data removed]"
          },
          "metadata": {
            "needs_background": "light"
          }
        },
        {
          "output_type": "display_data",
          "data": {
            "text/plain": [
              "<Figure size 432x288 with 1 Axes>"
            ],
            "image/png": "[encoded data removed]"
          },
          "metadata": {
            "needs_background": "light"
          }
        }
      ]
    }
  ]
}